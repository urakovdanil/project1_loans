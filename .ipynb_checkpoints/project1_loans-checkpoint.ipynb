{
 "cells": [
  {
   "cell_type": "markdown",
   "metadata": {},
   "source": [
    "## Исследование надёжности заёмщиков\n",
    "\n",
    "Учебный проект Яндекс.Практикума. \n",
    "\n",
    "Цель: определение влияния различных параметров заемщика на факт возврата им кредита в срок. Результаты исследования будут учтены при построении модели кредитного скоринга.\n",
    "\n",
    "Источник данных: Яндекс.Практикум\n",
    "\n",
    "Данные: 21500 записей о заемщиках с указанием базовой информации и сведениях о факте наличия задолженностей."
   ]
  },
  {
   "cell_type": "markdown",
   "metadata": {},
   "source": [
    "### Шаг 1. Откройте файл с данными и изучите общую информацию. "
   ]
  },
  {
   "cell_type": "code",
   "execution_count": 1,
   "metadata": {},
   "outputs": [
    {
     "name": "stdout",
     "output_type": "stream",
     "text": [
      "<class 'pandas.core.frame.DataFrame'>\n",
      "RangeIndex: 21525 entries, 0 to 21524\n",
      "Data columns (total 12 columns):\n",
      "children            21525 non-null int64\n",
      "days_employed       19351 non-null float64\n",
      "dob_years           21525 non-null int64\n",
      "education           21525 non-null object\n",
      "education_id        21525 non-null int64\n",
      "family_status       21525 non-null object\n",
      "family_status_id    21525 non-null int64\n",
      "gender              21525 non-null object\n",
      "income_type         21525 non-null object\n",
      "debt                21525 non-null int64\n",
      "total_income        19351 non-null float64\n",
      "purpose             21525 non-null object\n",
      "dtypes: float64(2), int64(5), object(5)\n",
      "memory usage: 2.0+ MB\n"
     ]
    }
   ],
   "source": [
    "import pandas as pd\n",
    "from pymystem3 import Mystem\n",
    "from collections import Counter\n",
    "\n",
    "\n",
    "data_raw = pd.read_csv('/datasets/data.csv')\n",
    "data_raw.info()"
   ]
  },
  {
   "cell_type": "markdown",
   "metadata": {},
   "source": [
    "Первые 10 строк исследуемого датасета"
   ]
  },
  {
   "cell_type": "code",
   "execution_count": 2,
   "metadata": {},
   "outputs": [
    {
     "data": {
      "text/html": [
       "<div>\n",
       "<style scoped>\n",
       "    .dataframe tbody tr th:only-of-type {\n",
       "        vertical-align: middle;\n",
       "    }\n",
       "\n",
       "    .dataframe tbody tr th {\n",
       "        vertical-align: top;\n",
       "    }\n",
       "\n",
       "    .dataframe thead th {\n",
       "        text-align: right;\n",
       "    }\n",
       "</style>\n",
       "<table border=\"1\" class=\"dataframe\">\n",
       "  <thead>\n",
       "    <tr style=\"text-align: right;\">\n",
       "      <th></th>\n",
       "      <th>children</th>\n",
       "      <th>days_employed</th>\n",
       "      <th>dob_years</th>\n",
       "      <th>education</th>\n",
       "      <th>education_id</th>\n",
       "      <th>family_status</th>\n",
       "      <th>family_status_id</th>\n",
       "      <th>gender</th>\n",
       "      <th>income_type</th>\n",
       "      <th>debt</th>\n",
       "      <th>total_income</th>\n",
       "      <th>purpose</th>\n",
       "    </tr>\n",
       "  </thead>\n",
       "  <tbody>\n",
       "    <tr>\n",
       "      <td>0</td>\n",
       "      <td>1</td>\n",
       "      <td>-8437.673028</td>\n",
       "      <td>42</td>\n",
       "      <td>высшее</td>\n",
       "      <td>0</td>\n",
       "      <td>женат / замужем</td>\n",
       "      <td>0</td>\n",
       "      <td>F</td>\n",
       "      <td>сотрудник</td>\n",
       "      <td>0</td>\n",
       "      <td>253875.639453</td>\n",
       "      <td>покупка жилья</td>\n",
       "    </tr>\n",
       "    <tr>\n",
       "      <td>1</td>\n",
       "      <td>1</td>\n",
       "      <td>-4024.803754</td>\n",
       "      <td>36</td>\n",
       "      <td>среднее</td>\n",
       "      <td>1</td>\n",
       "      <td>женат / замужем</td>\n",
       "      <td>0</td>\n",
       "      <td>F</td>\n",
       "      <td>сотрудник</td>\n",
       "      <td>0</td>\n",
       "      <td>112080.014102</td>\n",
       "      <td>приобретение автомобиля</td>\n",
       "    </tr>\n",
       "    <tr>\n",
       "      <td>2</td>\n",
       "      <td>0</td>\n",
       "      <td>-5623.422610</td>\n",
       "      <td>33</td>\n",
       "      <td>Среднее</td>\n",
       "      <td>1</td>\n",
       "      <td>женат / замужем</td>\n",
       "      <td>0</td>\n",
       "      <td>M</td>\n",
       "      <td>сотрудник</td>\n",
       "      <td>0</td>\n",
       "      <td>145885.952297</td>\n",
       "      <td>покупка жилья</td>\n",
       "    </tr>\n",
       "    <tr>\n",
       "      <td>3</td>\n",
       "      <td>3</td>\n",
       "      <td>-4124.747207</td>\n",
       "      <td>32</td>\n",
       "      <td>среднее</td>\n",
       "      <td>1</td>\n",
       "      <td>женат / замужем</td>\n",
       "      <td>0</td>\n",
       "      <td>M</td>\n",
       "      <td>сотрудник</td>\n",
       "      <td>0</td>\n",
       "      <td>267628.550329</td>\n",
       "      <td>дополнительное образование</td>\n",
       "    </tr>\n",
       "    <tr>\n",
       "      <td>4</td>\n",
       "      <td>0</td>\n",
       "      <td>340266.072047</td>\n",
       "      <td>53</td>\n",
       "      <td>среднее</td>\n",
       "      <td>1</td>\n",
       "      <td>гражданский брак</td>\n",
       "      <td>1</td>\n",
       "      <td>F</td>\n",
       "      <td>пенсионер</td>\n",
       "      <td>0</td>\n",
       "      <td>158616.077870</td>\n",
       "      <td>сыграть свадьбу</td>\n",
       "    </tr>\n",
       "    <tr>\n",
       "      <td>5</td>\n",
       "      <td>0</td>\n",
       "      <td>-926.185831</td>\n",
       "      <td>27</td>\n",
       "      <td>высшее</td>\n",
       "      <td>0</td>\n",
       "      <td>гражданский брак</td>\n",
       "      <td>1</td>\n",
       "      <td>M</td>\n",
       "      <td>компаньон</td>\n",
       "      <td>0</td>\n",
       "      <td>255763.565419</td>\n",
       "      <td>покупка жилья</td>\n",
       "    </tr>\n",
       "    <tr>\n",
       "      <td>6</td>\n",
       "      <td>0</td>\n",
       "      <td>-2879.202052</td>\n",
       "      <td>43</td>\n",
       "      <td>высшее</td>\n",
       "      <td>0</td>\n",
       "      <td>женат / замужем</td>\n",
       "      <td>0</td>\n",
       "      <td>F</td>\n",
       "      <td>компаньон</td>\n",
       "      <td>0</td>\n",
       "      <td>240525.971920</td>\n",
       "      <td>операции с жильем</td>\n",
       "    </tr>\n",
       "    <tr>\n",
       "      <td>7</td>\n",
       "      <td>0</td>\n",
       "      <td>-152.779569</td>\n",
       "      <td>50</td>\n",
       "      <td>СРЕДНЕЕ</td>\n",
       "      <td>1</td>\n",
       "      <td>женат / замужем</td>\n",
       "      <td>0</td>\n",
       "      <td>M</td>\n",
       "      <td>сотрудник</td>\n",
       "      <td>0</td>\n",
       "      <td>135823.934197</td>\n",
       "      <td>образование</td>\n",
       "    </tr>\n",
       "    <tr>\n",
       "      <td>8</td>\n",
       "      <td>2</td>\n",
       "      <td>-6929.865299</td>\n",
       "      <td>35</td>\n",
       "      <td>ВЫСШЕЕ</td>\n",
       "      <td>0</td>\n",
       "      <td>гражданский брак</td>\n",
       "      <td>1</td>\n",
       "      <td>F</td>\n",
       "      <td>сотрудник</td>\n",
       "      <td>0</td>\n",
       "      <td>95856.832424</td>\n",
       "      <td>на проведение свадьбы</td>\n",
       "    </tr>\n",
       "    <tr>\n",
       "      <td>9</td>\n",
       "      <td>0</td>\n",
       "      <td>-2188.756445</td>\n",
       "      <td>41</td>\n",
       "      <td>среднее</td>\n",
       "      <td>1</td>\n",
       "      <td>женат / замужем</td>\n",
       "      <td>0</td>\n",
       "      <td>M</td>\n",
       "      <td>сотрудник</td>\n",
       "      <td>0</td>\n",
       "      <td>144425.938277</td>\n",
       "      <td>покупка жилья для семьи</td>\n",
       "    </tr>\n",
       "  </tbody>\n",
       "</table>\n",
       "</div>"
      ],
      "text/plain": [
       "   children  days_employed  dob_years education  education_id  \\\n",
       "0         1   -8437.673028         42    высшее             0   \n",
       "1         1   -4024.803754         36   среднее             1   \n",
       "2         0   -5623.422610         33   Среднее             1   \n",
       "3         3   -4124.747207         32   среднее             1   \n",
       "4         0  340266.072047         53   среднее             1   \n",
       "5         0    -926.185831         27    высшее             0   \n",
       "6         0   -2879.202052         43    высшее             0   \n",
       "7         0    -152.779569         50   СРЕДНЕЕ             1   \n",
       "8         2   -6929.865299         35    ВЫСШЕЕ             0   \n",
       "9         0   -2188.756445         41   среднее             1   \n",
       "\n",
       "      family_status  family_status_id gender income_type  debt   total_income  \\\n",
       "0   женат / замужем                 0      F   сотрудник     0  253875.639453   \n",
       "1   женат / замужем                 0      F   сотрудник     0  112080.014102   \n",
       "2   женат / замужем                 0      M   сотрудник     0  145885.952297   \n",
       "3   женат / замужем                 0      M   сотрудник     0  267628.550329   \n",
       "4  гражданский брак                 1      F   пенсионер     0  158616.077870   \n",
       "5  гражданский брак                 1      M   компаньон     0  255763.565419   \n",
       "6   женат / замужем                 0      F   компаньон     0  240525.971920   \n",
       "7   женат / замужем                 0      M   сотрудник     0  135823.934197   \n",
       "8  гражданский брак                 1      F   сотрудник     0   95856.832424   \n",
       "9   женат / замужем                 0      M   сотрудник     0  144425.938277   \n",
       "\n",
       "                      purpose  \n",
       "0               покупка жилья  \n",
       "1     приобретение автомобиля  \n",
       "2               покупка жилья  \n",
       "3  дополнительное образование  \n",
       "4             сыграть свадьбу  \n",
       "5               покупка жилья  \n",
       "6           операции с жильем  \n",
       "7                 образование  \n",
       "8       на проведение свадьбы  \n",
       "9     покупка жилья для семьи  "
      ]
     },
     "execution_count": 2,
     "metadata": {},
     "output_type": "execute_result"
    }
   ],
   "source": [
    "data_raw.head(10)"
   ]
  },
  {
   "cell_type": "markdown",
   "metadata": {},
   "source": [
    "### Вывод"
   ]
  },
  {
   "cell_type": "markdown",
   "metadata": {},
   "source": [
    "Данные представлены в таблице 21525 х 12. \n",
    "Из данных о столбцах можно сделать следующие выводы:\n",
    "1. В столбцах days_employed и total_income присутствуют пропуски\n",
    "2. В остальных столбцах нет ни пропусков, ни данных не верного типа\n",
    "3. В столбце days_employed потребуется изменить тип данных на int64 (при переходе к целым числам слабо изменятся \n",
    "    значения, а значит слабо изменятся и соответствующие статистические характеристики)\n",
    "4. В столбце 'days_employed' присутствуют и отрицательные, и положительные значения, помимо этого представленные значения могут отличаться друг от друга на несколько порядков\n",
    "5. Количество пропусков в days_employed и total_income совпадают, что может указывать на некорректную работу алгоритмов выгрузки данных\n",
    "6. Может потребоваться внедрение столбцов с id, соответствующих данным из колонок income_type, purpose для оптимизации процесса категоризации данных и исключения связанных с этим процессом ошибок"
   ]
  },
  {
   "cell_type": "markdown",
   "metadata": {},
   "source": [
    "### Шаг 2. Предобработка данных"
   ]
  },
  {
   "cell_type": "markdown",
   "metadata": {},
   "source": [
    "### Обработка пропусков"
   ]
  },
  {
   "cell_type": "markdown",
   "metadata": {},
   "source": [
    "Согласно информации о таблице, количества пропусков в колонке days_employed и total_income совпадают и равны 2174. Необходимо установить, всегда ли наличие пропуска в колонке days_employed означает пропуск в соответствующей строке в колонке total_income. "
   ]
  },
  {
   "cell_type": "code",
   "execution_count": 3,
   "metadata": {},
   "outputs": [
    {
     "name": "stdout",
     "output_type": "stream",
     "text": [
      "Количество строк с пропусками одновременно в колонке 'days_employed' и в колонке 'total_income': 2174\n",
      "Процент данных с пропусками: 10.1%\n"
     ]
    }
   ],
   "source": [
    "na_count = data_raw[data_raw['days_employed'].isna()]['total_income'].isna().count()\n",
    "na_percent = na_count / 21525\n",
    "print(f\"Количество строк с пропусками одновременно в колонке 'days_employed' и в колонке 'total_income': {na_count}\")\n",
    "print('Процент данных с пропусками: {:.1%}'.format(na_percent))"
   ]
  },
  {
   "cell_type": "markdown",
   "metadata": {},
   "source": [
    "#### Промежуточный вывод\n",
    "1. Полученное значение равно 2174. Значит, если в строке отсутствуют данные о рабочем стаже, автоматически отсутствуют и данные о ежемесячном доходе. \n",
    "2. Возникновение пропусков является системным, необходимо проверить алгоритмы работы сбора данных из базы данных. \n",
    "3. При удалении всех пропусков объем данных сократится на 10.1%, потому пропуски лучше заполнить. Это определенно скажется на одной из целевых метрик, но повысит точность ответов на оставшиеся вопросы.\n",
    "4. Пропуски будут заполнены следующими значениями: \n",
    "  1. Данные в колонке о доходах разбиваются на группы, чтобы выяснить присутствуют ли в колонке выбросы - отрицательные или аномально высокие (в масштабах выборки) значения\n",
    "  2. Выполняется проверка на адекватность данных в колонке 'gender', различные обозначения пола приводятся к единому виду, данные о неизвестных полах удаляются\n",
    "  3. Строки датасета без пропусков будут сгруппированы по полу, затем по возрасту: выбор именно этих колонок обусловлен тем, что данные именно в этих колонках наиболее достоверны (группировка, например, по стажу невозможна в силу присутствия большого числа неадекватно завышенных значений - об этом далее). Более того, существуют статистические данные о различии доходов женщин и мужчин, а так же специалистов разного возраста\n",
    "  4. Для каждой из полученных категорий будут рассчитаны средние значения\n",
    "  5. Пропуски будут заполнены средним для данного пола и возраста значением"
   ]
  },
  {
   "cell_type": "code",
   "execution_count": 4,
   "metadata": {
    "scrolled": true
   },
   "outputs": [
    {
     "data": {
      "text/plain": [
       "income_group\n",
       "более 500 тыс.         222\n",
       "от 400 до 500 тыс.     306\n",
       "от 300 до 400 тыс.     954\n",
       "от 200 до 300 тыс.    3584\n",
       "менее 100 тыс.        4463\n",
       "от 100 до 200 тыс.    9822\n",
       "Name: total_income, dtype: int64"
      ]
     },
     "execution_count": 4,
     "metadata": {},
     "output_type": "execute_result"
    }
   ],
   "source": [
    "def outlier_search_income(data):\n",
    "    \"\"\"\n",
    "    Функция категоризирует данные по уровню дохода. В случае пропуска значения присваивает группу \"Пропуск\", которая не\n",
    "    попадает в выходной датасет\n",
    "    :data: входной датасет. Исследуемая колонка 'total_income' может содержать пропуски\n",
    "    :return: сводная таблица: группировка по группе дохода, подсчет количества значений в группе.\n",
    "             Группы дохода: 'менее 100 тыс.', 'от 100 до 200 тыс.', 'от 200 до 300 тыс.', 'от 300 до 400 тыс.',\n",
    "             'от 400 до 500 тыс.', 'более 500 тыс.'.\n",
    "    \"\"\"\n",
    "\n",
    "    def total_income_group(row):\n",
    "        try:\n",
    "            if row['total_income'] <= 0:\n",
    "                return 'неположительный доход'\n",
    "            elif 0 < row['total_income'] <= 100000:\n",
    "                return 'менее 100 тыс.'\n",
    "            elif 100000 < row['total_income'] <= 200000:\n",
    "                return 'от 100 до 200 тыс.'\n",
    "            elif 200000 < row['total_income'] <= 300000:\n",
    "                return 'от 200 до 300 тыс.'\n",
    "            elif 300000 < row['total_income'] <= 400000:\n",
    "                return 'от 300 до 400 тыс.'\n",
    "            elif 400000 < row['total_income'] <= 500000:\n",
    "                return 'от 400 до 500 тыс.'\n",
    "            elif row['total_income'] > 500000:\n",
    "                return 'более 500 тыс.'\n",
    "        except:\n",
    "            return 'Пропуск'\n",
    "\n",
    "    data_total_income_group = pd.DataFrame()\n",
    "    data_total_income_group['total_income'] = data['total_income']\n",
    "    data_total_income_group['income_group'] = data.apply(total_income_group, axis=1)\n",
    "    return data_total_income_group.groupby('income_group')['total_income'].count().sort_values(ascending=True)\n",
    "\n",
    "\n",
    "outlier_search_income(data_raw)"
   ]
  },
  {
   "cell_type": "markdown",
   "metadata": {},
   "source": [
    "Из результатов группировки по доходу следует: \n",
    "1. Неположительных значений дохода в данных нет\n",
    "2. Необходимо проверить данные на наличие аномально высоких (в масштабах выборки) доходов"
   ]
  },
  {
   "cell_type": "code",
   "execution_count": 5,
   "metadata": {},
   "outputs": [
    {
     "name": "stdout",
     "output_type": "stream",
     "text": [
      "Максимальное значение дохода в выборке: 2265604.028722744\n"
     ]
    }
   ],
   "source": [
    "total_income_max = data_raw['total_income'].max()\n",
    "print(f'Максимальное значение дохода в выборке: {total_income_max}')"
   ]
  },
  {
   "cell_type": "markdown",
   "metadata": {},
   "source": [
    "Данные о доходе не содержат выбросов: подсчет средних значений дохода можно выполнять без дополнительной подготовки данных"
   ]
  },
  {
   "cell_type": "code",
   "execution_count": 6,
   "metadata": {},
   "outputs": [
    {
     "name": "stdout",
     "output_type": "stream",
     "text": [
      "['F' 'M' 'XNA']\n"
     ]
    }
   ],
   "source": [
    "#проверка значений, представленных в колонке 'gender'\n",
    "gender_list = data_raw['gender'].unique()\n",
    "print(gender_list)"
   ]
  },
  {
   "cell_type": "markdown",
   "metadata": {},
   "source": [
    "В данных обнаружены строки с неизвестным полом 'XNA'"
   ]
  },
  {
   "cell_type": "code",
   "execution_count": 7,
   "metadata": {},
   "outputs": [
    {
     "data": {
      "text/html": [
       "<div>\n",
       "<style scoped>\n",
       "    .dataframe tbody tr th:only-of-type {\n",
       "        vertical-align: middle;\n",
       "    }\n",
       "\n",
       "    .dataframe tbody tr th {\n",
       "        vertical-align: top;\n",
       "    }\n",
       "\n",
       "    .dataframe thead th {\n",
       "        text-align: right;\n",
       "    }\n",
       "</style>\n",
       "<table border=\"1\" class=\"dataframe\">\n",
       "  <thead>\n",
       "    <tr style=\"text-align: right;\">\n",
       "      <th></th>\n",
       "      <th>children</th>\n",
       "      <th>days_employed</th>\n",
       "      <th>dob_years</th>\n",
       "      <th>education</th>\n",
       "      <th>education_id</th>\n",
       "      <th>family_status</th>\n",
       "      <th>family_status_id</th>\n",
       "      <th>gender</th>\n",
       "      <th>income_type</th>\n",
       "      <th>debt</th>\n",
       "      <th>total_income</th>\n",
       "      <th>purpose</th>\n",
       "    </tr>\n",
       "  </thead>\n",
       "  <tbody>\n",
       "    <tr>\n",
       "      <td>10701</td>\n",
       "      <td>0</td>\n",
       "      <td>-2358.600502</td>\n",
       "      <td>24</td>\n",
       "      <td>неоконченное высшее</td>\n",
       "      <td>2</td>\n",
       "      <td>гражданский брак</td>\n",
       "      <td>1</td>\n",
       "      <td>XNA</td>\n",
       "      <td>компаньон</td>\n",
       "      <td>0</td>\n",
       "      <td>203905.157261</td>\n",
       "      <td>покупка недвижимости</td>\n",
       "    </tr>\n",
       "  </tbody>\n",
       "</table>\n",
       "</div>"
      ],
      "text/plain": [
       "       children  days_employed  dob_years            education  education_id  \\\n",
       "10701         0   -2358.600502         24  неоконченное высшее             2   \n",
       "\n",
       "          family_status  family_status_id gender income_type  debt  \\\n",
       "10701  гражданский брак                 1    XNA   компаньон     0   \n",
       "\n",
       "        total_income               purpose  \n",
       "10701  203905.157261  покупка недвижимости  "
      ]
     },
     "execution_count": 7,
     "metadata": {},
     "output_type": "execute_result"
    }
   ],
   "source": [
    "# вывод строки с неизестным полом\n",
    "data_raw.loc[data_raw.loc[:, 'gender'] == 'XNA']"
   ]
  },
  {
   "cell_type": "markdown",
   "metadata": {},
   "source": [
    "Обнаружена единственная строка с неизвестным полом. Перед заполнением пропусков в 'total_income' ее необходимо удалить"
   ]
  },
  {
   "cell_type": "code",
   "execution_count": 8,
   "metadata": {},
   "outputs": [
    {
     "name": "stdout",
     "output_type": "stream",
     "text": [
      "<class 'pandas.core.frame.DataFrame'>\n",
      "Int64Index: 21524 entries, 0 to 21524\n",
      "Data columns (total 12 columns):\n",
      "children            21524 non-null int64\n",
      "days_employed       19350 non-null float64\n",
      "dob_years           21524 non-null int64\n",
      "education           21524 non-null object\n",
      "education_id        21524 non-null int64\n",
      "family_status       21524 non-null object\n",
      "family_status_id    21524 non-null int64\n",
      "gender              21524 non-null object\n",
      "income_type         21524 non-null object\n",
      "debt                21524 non-null int64\n",
      "total_income        19350 non-null float64\n",
      "purpose             21524 non-null object\n",
      "dtypes: float64(2), int64(5), object(5)\n",
      "memory usage: 2.1+ MB\n"
     ]
    }
   ],
   "source": [
    "# удаление строки с полом 'XNA', сброс индексирования и проверка сводной информации\n",
    "data_raw = data_raw.drop([10701])\n",
    "data_raw.reset_index(drop=True)\n",
    "data_raw.info()"
   ]
  },
  {
   "cell_type": "markdown",
   "metadata": {},
   "source": [
    "Строка с неизвестным полом была удалена, данные готовы к группировке и заполнению пропусков с использованием данной группировки."
   ]
  },
  {
   "cell_type": "markdown",
   "metadata": {},
   "source": [
    "#### Заполнение пропусков в колонке 'total_income'"
   ]
  },
  {
   "cell_type": "code",
   "execution_count": 9,
   "metadata": {},
   "outputs": [
    {
     "data": {
      "text/html": [
       "<div>\n",
       "<style scoped>\n",
       "    .dataframe tbody tr th:only-of-type {\n",
       "        vertical-align: middle;\n",
       "    }\n",
       "\n",
       "    .dataframe tbody tr th {\n",
       "        vertical-align: top;\n",
       "    }\n",
       "\n",
       "    .dataframe thead th {\n",
       "        text-align: right;\n",
       "    }\n",
       "</style>\n",
       "<table border=\"1\" class=\"dataframe\">\n",
       "  <thead>\n",
       "    <tr style=\"text-align: right;\">\n",
       "      <th></th>\n",
       "      <th>children</th>\n",
       "      <th>days_employed</th>\n",
       "      <th>dob_years</th>\n",
       "      <th>education</th>\n",
       "      <th>education_id</th>\n",
       "      <th>family_status</th>\n",
       "      <th>family_status_id</th>\n",
       "      <th>gender</th>\n",
       "      <th>income_type</th>\n",
       "      <th>debt</th>\n",
       "      <th>total_income</th>\n",
       "      <th>purpose</th>\n",
       "      <th>total_income_mean</th>\n",
       "    </tr>\n",
       "  </thead>\n",
       "  <tbody>\n",
       "    <tr>\n",
       "      <td>12</td>\n",
       "      <td>0</td>\n",
       "      <td>NaN</td>\n",
       "      <td>65</td>\n",
       "      <td>среднее</td>\n",
       "      <td>1</td>\n",
       "      <td>гражданский брак</td>\n",
       "      <td>1</td>\n",
       "      <td>M</td>\n",
       "      <td>пенсионер</td>\n",
       "      <td>0</td>\n",
       "      <td>167269.001754</td>\n",
       "      <td>сыграть свадьбу</td>\n",
       "      <td>167269.001754</td>\n",
       "    </tr>\n",
       "    <tr>\n",
       "      <td>26</td>\n",
       "      <td>0</td>\n",
       "      <td>NaN</td>\n",
       "      <td>41</td>\n",
       "      <td>среднее</td>\n",
       "      <td>1</td>\n",
       "      <td>женат / замужем</td>\n",
       "      <td>0</td>\n",
       "      <td>M</td>\n",
       "      <td>госслужащий</td>\n",
       "      <td>0</td>\n",
       "      <td>209297.523153</td>\n",
       "      <td>образование</td>\n",
       "      <td>209297.523153</td>\n",
       "    </tr>\n",
       "    <tr>\n",
       "      <td>29</td>\n",
       "      <td>0</td>\n",
       "      <td>NaN</td>\n",
       "      <td>63</td>\n",
       "      <td>среднее</td>\n",
       "      <td>1</td>\n",
       "      <td>Не женат / не замужем</td>\n",
       "      <td>4</td>\n",
       "      <td>F</td>\n",
       "      <td>пенсионер</td>\n",
       "      <td>0</td>\n",
       "      <td>145337.713305</td>\n",
       "      <td>строительство жилой недвижимости</td>\n",
       "      <td>145337.713305</td>\n",
       "    </tr>\n",
       "    <tr>\n",
       "      <td>41</td>\n",
       "      <td>0</td>\n",
       "      <td>NaN</td>\n",
       "      <td>50</td>\n",
       "      <td>среднее</td>\n",
       "      <td>1</td>\n",
       "      <td>женат / замужем</td>\n",
       "      <td>0</td>\n",
       "      <td>F</td>\n",
       "      <td>госслужащий</td>\n",
       "      <td>0</td>\n",
       "      <td>152275.289235</td>\n",
       "      <td>сделка с подержанным автомобилем</td>\n",
       "      <td>152275.289235</td>\n",
       "    </tr>\n",
       "    <tr>\n",
       "      <td>55</td>\n",
       "      <td>0</td>\n",
       "      <td>NaN</td>\n",
       "      <td>54</td>\n",
       "      <td>среднее</td>\n",
       "      <td>1</td>\n",
       "      <td>гражданский брак</td>\n",
       "      <td>1</td>\n",
       "      <td>F</td>\n",
       "      <td>пенсионер</td>\n",
       "      <td>1</td>\n",
       "      <td>148272.317612</td>\n",
       "      <td>сыграть свадьбу</td>\n",
       "      <td>148272.317612</td>\n",
       "    </tr>\n",
       "  </tbody>\n",
       "</table>\n",
       "</div>"
      ],
      "text/plain": [
       "    children  days_employed  dob_years education  education_id  \\\n",
       "12         0            NaN         65   среднее             1   \n",
       "26         0            NaN         41   среднее             1   \n",
       "29         0            NaN         63   среднее             1   \n",
       "41         0            NaN         50   среднее             1   \n",
       "55         0            NaN         54   среднее             1   \n",
       "\n",
       "            family_status  family_status_id gender  income_type  debt  \\\n",
       "12       гражданский брак                 1      M    пенсионер     0   \n",
       "26        женат / замужем                 0      M  госслужащий     0   \n",
       "29  Не женат / не замужем                 4      F    пенсионер     0   \n",
       "41        женат / замужем                 0      F  госслужащий     0   \n",
       "55       гражданский брак                 1      F    пенсионер     1   \n",
       "\n",
       "     total_income                           purpose  total_income_mean  \n",
       "12  167269.001754                   сыграть свадьбу      167269.001754  \n",
       "26  209297.523153                       образование      209297.523153  \n",
       "29  145337.713305  строительство жилой недвижимости      145337.713305  \n",
       "41  152275.289235  сделка с подержанным автомобилем      152275.289235  \n",
       "55  148272.317612                   сыграть свадьбу      148272.317612  "
      ]
     },
     "execution_count": 9,
     "metadata": {},
     "output_type": "execute_result"
    }
   ],
   "source": [
    "def replace_na_income_with_mean(df):\n",
    "    '''\n",
    "    Функция заполняет пропуски в колонке 'total_income' по следующему механизму: из исходного датасета удаляются все пропуски, \n",
    "    оставшиеся данные группируются сначала по полу, затем по возрасту. Для каждой группы вычисляется среднее значение \n",
    "    ежемесячного дохода, которое затем проставляется на места пропусков для заёмщиков с НЕНУЛЕВЫМ возрастом\n",
    "    \n",
    "    :df_no_na: исходный датасет с полностью удаленными пропусками\n",
    "    :total_income_mean: результат группировки df_no_na сначала по полу, затем по возрасту, колонка total_income_mean содержит\n",
    "                        соответствующее данной группе среднее значение месячного дохода\n",
    "    :df_filled_na: результат слияния total_income_mean и df по колонкам 'gender' и 'dob_years' с сохранением индексирования\n",
    "                   из df\n",
    "    :return: df_filled_na, в котором пропуски в колонке 'total_income' для всех заемщиков С НЕНУЛЕВЫМ ВОЗРАСТОМ заполнены \n",
    "             средним для данного пола и возраста значением\n",
    "    '''\n",
    "    df_no_na = df.dropna()\n",
    "    total_income_mean = df_no_na.groupby(['gender', 'dob_years']).agg({'total_income': 'mean'}).rename(columns={'total_income': 'total_income_mean'})\n",
    "    df_filled_na = df.merge(total_income_mean, on=['gender', 'dob_years'], how='left')\n",
    "    df_filled_na.loc[(df_filled_na.loc[:, 'total_income'].isna()) & (df_filled_na.loc[:, 'dob_years'] != 0), 'total_income'] = df_filled_na.loc[(df_filled_na.loc[:, 'total_income'].isna()) & (df_filled_na.loc[:, 'dob_years'] != 0), 'total_income_mean']\n",
    "    return df_filled_na\n",
    "\n",
    "\n",
    "# заполнение пропусков в колонке 'total_income' и вывод первых пяти строк, в которых ранее в 'total_income' стояли пропуски \n",
    "data_raw = replace_na_income_with_mean(data_raw)\n",
    "data_raw.loc[data_raw.loc[:, 'days_employed'].isna()].head()"
   ]
  },
  {
   "cell_type": "code",
   "execution_count": 10,
   "metadata": {},
   "outputs": [
    {
     "name": "stdout",
     "output_type": "stream",
     "text": [
      "<class 'pandas.core.frame.DataFrame'>\n",
      "Int64Index: 21524 entries, 0 to 21523\n",
      "Data columns (total 13 columns):\n",
      "children             21524 non-null int64\n",
      "days_employed        19350 non-null float64\n",
      "dob_years            21524 non-null int64\n",
      "education            21524 non-null object\n",
      "education_id         21524 non-null int64\n",
      "family_status        21524 non-null object\n",
      "family_status_id     21524 non-null int64\n",
      "gender               21524 non-null object\n",
      "income_type          21524 non-null object\n",
      "debt                 21524 non-null int64\n",
      "total_income         21514 non-null float64\n",
      "purpose              21524 non-null object\n",
      "total_income_mean    21524 non-null float64\n",
      "dtypes: float64(3), int64(5), object(5)\n",
      "memory usage: 2.3+ MB\n"
     ]
    }
   ],
   "source": [
    "# вывод информации о текущем содержании таблицы\n",
    "data_raw.info()"
   ]
  },
  {
   "cell_type": "markdown",
   "metadata": {},
   "source": [
    "В колонке ежемесячного дохода все еще остаются пропуски.  \n",
    "Содержание строк с пропусками:"
   ]
  },
  {
   "cell_type": "code",
   "execution_count": 11,
   "metadata": {},
   "outputs": [
    {
     "data": {
      "text/html": [
       "<div>\n",
       "<style scoped>\n",
       "    .dataframe tbody tr th:only-of-type {\n",
       "        vertical-align: middle;\n",
       "    }\n",
       "\n",
       "    .dataframe tbody tr th {\n",
       "        vertical-align: top;\n",
       "    }\n",
       "\n",
       "    .dataframe thead th {\n",
       "        text-align: right;\n",
       "    }\n",
       "</style>\n",
       "<table border=\"1\" class=\"dataframe\">\n",
       "  <thead>\n",
       "    <tr style=\"text-align: right;\">\n",
       "      <th></th>\n",
       "      <th>children</th>\n",
       "      <th>days_employed</th>\n",
       "      <th>dob_years</th>\n",
       "      <th>education</th>\n",
       "      <th>education_id</th>\n",
       "      <th>family_status</th>\n",
       "      <th>family_status_id</th>\n",
       "      <th>gender</th>\n",
       "      <th>income_type</th>\n",
       "      <th>debt</th>\n",
       "      <th>total_income</th>\n",
       "      <th>purpose</th>\n",
       "      <th>total_income_mean</th>\n",
       "    </tr>\n",
       "  </thead>\n",
       "  <tbody>\n",
       "    <tr>\n",
       "      <td>1890</td>\n",
       "      <td>0</td>\n",
       "      <td>NaN</td>\n",
       "      <td>0</td>\n",
       "      <td>высшее</td>\n",
       "      <td>0</td>\n",
       "      <td>Не женат / не замужем</td>\n",
       "      <td>4</td>\n",
       "      <td>F</td>\n",
       "      <td>сотрудник</td>\n",
       "      <td>0</td>\n",
       "      <td>NaN</td>\n",
       "      <td>жилье</td>\n",
       "      <td>142763.314708</td>\n",
       "    </tr>\n",
       "    <tr>\n",
       "      <td>2284</td>\n",
       "      <td>0</td>\n",
       "      <td>NaN</td>\n",
       "      <td>0</td>\n",
       "      <td>среднее</td>\n",
       "      <td>1</td>\n",
       "      <td>вдовец / вдова</td>\n",
       "      <td>2</td>\n",
       "      <td>F</td>\n",
       "      <td>пенсионер</td>\n",
       "      <td>0</td>\n",
       "      <td>NaN</td>\n",
       "      <td>недвижимость</td>\n",
       "      <td>142763.314708</td>\n",
       "    </tr>\n",
       "    <tr>\n",
       "      <td>4064</td>\n",
       "      <td>1</td>\n",
       "      <td>NaN</td>\n",
       "      <td>0</td>\n",
       "      <td>среднее</td>\n",
       "      <td>1</td>\n",
       "      <td>гражданский брак</td>\n",
       "      <td>1</td>\n",
       "      <td>M</td>\n",
       "      <td>компаньон</td>\n",
       "      <td>0</td>\n",
       "      <td>NaN</td>\n",
       "      <td>ремонт жилью</td>\n",
       "      <td>195255.623276</td>\n",
       "    </tr>\n",
       "    <tr>\n",
       "      <td>5014</td>\n",
       "      <td>0</td>\n",
       "      <td>NaN</td>\n",
       "      <td>0</td>\n",
       "      <td>среднее</td>\n",
       "      <td>1</td>\n",
       "      <td>женат / замужем</td>\n",
       "      <td>0</td>\n",
       "      <td>F</td>\n",
       "      <td>компаньон</td>\n",
       "      <td>0</td>\n",
       "      <td>NaN</td>\n",
       "      <td>покупка недвижимости</td>\n",
       "      <td>142763.314708</td>\n",
       "    </tr>\n",
       "    <tr>\n",
       "      <td>6411</td>\n",
       "      <td>0</td>\n",
       "      <td>NaN</td>\n",
       "      <td>0</td>\n",
       "      <td>высшее</td>\n",
       "      <td>0</td>\n",
       "      <td>гражданский брак</td>\n",
       "      <td>1</td>\n",
       "      <td>F</td>\n",
       "      <td>пенсионер</td>\n",
       "      <td>0</td>\n",
       "      <td>NaN</td>\n",
       "      <td>свадьба</td>\n",
       "      <td>142763.314708</td>\n",
       "    </tr>\n",
       "    <tr>\n",
       "      <td>6670</td>\n",
       "      <td>0</td>\n",
       "      <td>NaN</td>\n",
       "      <td>0</td>\n",
       "      <td>Высшее</td>\n",
       "      <td>0</td>\n",
       "      <td>в разводе</td>\n",
       "      <td>3</td>\n",
       "      <td>F</td>\n",
       "      <td>пенсионер</td>\n",
       "      <td>0</td>\n",
       "      <td>NaN</td>\n",
       "      <td>покупка жилой недвижимости</td>\n",
       "      <td>142763.314708</td>\n",
       "    </tr>\n",
       "    <tr>\n",
       "      <td>8574</td>\n",
       "      <td>0</td>\n",
       "      <td>NaN</td>\n",
       "      <td>0</td>\n",
       "      <td>среднее</td>\n",
       "      <td>1</td>\n",
       "      <td>женат / замужем</td>\n",
       "      <td>0</td>\n",
       "      <td>F</td>\n",
       "      <td>сотрудник</td>\n",
       "      <td>0</td>\n",
       "      <td>NaN</td>\n",
       "      <td>недвижимость</td>\n",
       "      <td>142763.314708</td>\n",
       "    </tr>\n",
       "    <tr>\n",
       "      <td>12402</td>\n",
       "      <td>3</td>\n",
       "      <td>NaN</td>\n",
       "      <td>0</td>\n",
       "      <td>среднее</td>\n",
       "      <td>1</td>\n",
       "      <td>женат / замужем</td>\n",
       "      <td>0</td>\n",
       "      <td>M</td>\n",
       "      <td>сотрудник</td>\n",
       "      <td>0</td>\n",
       "      <td>NaN</td>\n",
       "      <td>операции с коммерческой недвижимостью</td>\n",
       "      <td>195255.623276</td>\n",
       "    </tr>\n",
       "    <tr>\n",
       "      <td>13740</td>\n",
       "      <td>0</td>\n",
       "      <td>NaN</td>\n",
       "      <td>0</td>\n",
       "      <td>среднее</td>\n",
       "      <td>1</td>\n",
       "      <td>гражданский брак</td>\n",
       "      <td>1</td>\n",
       "      <td>F</td>\n",
       "      <td>сотрудник</td>\n",
       "      <td>0</td>\n",
       "      <td>NaN</td>\n",
       "      <td>на проведение свадьбы</td>\n",
       "      <td>142763.314708</td>\n",
       "    </tr>\n",
       "    <tr>\n",
       "      <td>19828</td>\n",
       "      <td>0</td>\n",
       "      <td>NaN</td>\n",
       "      <td>0</td>\n",
       "      <td>среднее</td>\n",
       "      <td>1</td>\n",
       "      <td>женат / замужем</td>\n",
       "      <td>0</td>\n",
       "      <td>F</td>\n",
       "      <td>сотрудник</td>\n",
       "      <td>0</td>\n",
       "      <td>NaN</td>\n",
       "      <td>жилье</td>\n",
       "      <td>142763.314708</td>\n",
       "    </tr>\n",
       "  </tbody>\n",
       "</table>\n",
       "</div>"
      ],
      "text/plain": [
       "       children  days_employed  dob_years education  education_id  \\\n",
       "1890          0            NaN          0    высшее             0   \n",
       "2284          0            NaN          0   среднее             1   \n",
       "4064          1            NaN          0   среднее             1   \n",
       "5014          0            NaN          0   среднее             1   \n",
       "6411          0            NaN          0    высшее             0   \n",
       "6670          0            NaN          0    Высшее             0   \n",
       "8574          0            NaN          0   среднее             1   \n",
       "12402         3            NaN          0   среднее             1   \n",
       "13740         0            NaN          0   среднее             1   \n",
       "19828         0            NaN          0   среднее             1   \n",
       "\n",
       "               family_status  family_status_id gender income_type  debt  \\\n",
       "1890   Не женат / не замужем                 4      F   сотрудник     0   \n",
       "2284          вдовец / вдова                 2      F   пенсионер     0   \n",
       "4064        гражданский брак                 1      M   компаньон     0   \n",
       "5014         женат / замужем                 0      F   компаньон     0   \n",
       "6411        гражданский брак                 1      F   пенсионер     0   \n",
       "6670               в разводе                 3      F   пенсионер     0   \n",
       "8574         женат / замужем                 0      F   сотрудник     0   \n",
       "12402        женат / замужем                 0      M   сотрудник     0   \n",
       "13740       гражданский брак                 1      F   сотрудник     0   \n",
       "19828        женат / замужем                 0      F   сотрудник     0   \n",
       "\n",
       "       total_income                                purpose  total_income_mean  \n",
       "1890            NaN                                  жилье      142763.314708  \n",
       "2284            NaN                           недвижимость      142763.314708  \n",
       "4064            NaN                           ремонт жилью      195255.623276  \n",
       "5014            NaN                   покупка недвижимости      142763.314708  \n",
       "6411            NaN                                свадьба      142763.314708  \n",
       "6670            NaN             покупка жилой недвижимости      142763.314708  \n",
       "8574            NaN                           недвижимость      142763.314708  \n",
       "12402           NaN  операции с коммерческой недвижимостью      195255.623276  \n",
       "13740           NaN                  на проведение свадьбы      142763.314708  \n",
       "19828           NaN                                  жилье      142763.314708  "
      ]
     },
     "execution_count": 11,
     "metadata": {},
     "output_type": "execute_result"
    }
   ],
   "source": [
    "data_raw.loc[data_raw.loc[:, 'total_income'].isna()]"
   ]
  },
  {
   "cell_type": "markdown",
   "metadata": {},
   "source": [
    "Возникновение пропусков связано с тем, что при заполнении пропусков средним для данного ПОЛА и ВОЗРАСТА нулевые значения возраста игнорировались по причине неприменимости использованной группировки к заемщиками с фактически неуказанным возрастом.  \n",
    "  \n",
    "  \n",
    "Пропуски в колонке 'total_income' будут заполнены средними значениями доходов для заемщиков данного пола с учетом уже проведенного обогащения данных. "
   ]
  },
  {
   "cell_type": "code",
   "execution_count": 12,
   "metadata": {},
   "outputs": [
    {
     "name": "stdout",
     "output_type": "stream",
     "text": [
      "<class 'pandas.core.frame.DataFrame'>\n",
      "Int64Index: 21524 entries, 0 to 21523\n",
      "Data columns (total 14 columns):\n",
      "children                    21524 non-null int64\n",
      "days_employed               19350 non-null float64\n",
      "dob_years                   21524 non-null int64\n",
      "education                   21524 non-null object\n",
      "education_id                21524 non-null int64\n",
      "family_status               21524 non-null object\n",
      "family_status_id            21524 non-null int64\n",
      "gender                      21524 non-null object\n",
      "income_type                 21524 non-null object\n",
      "debt                        21524 non-null int64\n",
      "total_income                21524 non-null float64\n",
      "purpose                     21524 non-null object\n",
      "total_income_mean           21524 non-null float64\n",
      "total_income_mean_gender    21524 non-null float64\n",
      "dtypes: float64(4), int64(5), object(5)\n",
      "memory usage: 2.5+ MB\n"
     ]
    }
   ],
   "source": [
    "total_income_mean_gender = data_raw.groupby('gender').agg({'total_income':'mean'}).rename(columns={'total_income': 'total_income_mean_gender'})\n",
    "data_raw = data_raw.merge(total_income_mean_gender, on='gender', how='left')\n",
    "data_raw.loc[data_raw.loc[:, 'total_income'].isna(), 'total_income'] = data_raw.loc[data_raw.loc[:, 'total_income'].isna(), 'total_income_mean_gender']\n",
    "data_raw.info()"
   ]
  },
  {
   "cell_type": "markdown",
   "metadata": {},
   "source": [
    "#### Промежуточный вывод\n",
    "Пропуски в столбце 'total_income' были заполнены средними для данного пола и возраста значениями.  \n",
    "В случаях, когда ежемесячный доход не был указан у заемщиков с нулевым возрастом, пропуски в данной колонке были заполнены средними для соответствющего пола."
   ]
  },
  {
   "cell_type": "code",
   "execution_count": 13,
   "metadata": {
    "scrolled": true
   },
   "outputs": [
    {
     "name": "stdout",
     "output_type": "stream",
     "text": [
      "<class 'pandas.core.frame.DataFrame'>\n",
      "Int64Index: 21524 entries, 0 to 21523\n",
      "Data columns (total 15 columns):\n",
      "children                    21524 non-null int64\n",
      "days_employed               21514 non-null float64\n",
      "dob_years                   21524 non-null int64\n",
      "education                   21524 non-null object\n",
      "education_id                21524 non-null int64\n",
      "family_status               21524 non-null object\n",
      "family_status_id            21524 non-null int64\n",
      "gender                      21524 non-null object\n",
      "income_type                 21524 non-null object\n",
      "debt                        21524 non-null int64\n",
      "total_income                21524 non-null float64\n",
      "purpose                     21524 non-null object\n",
      "total_income_mean           21524 non-null float64\n",
      "total_income_mean_gender    21524 non-null float64\n",
      "days_employed_median        21419 non-null float64\n",
      "dtypes: float64(5), int64(5), object(5)\n",
      "memory usage: 2.6+ MB\n"
     ]
    }
   ],
   "source": [
    "def replace_na_days_employed_with_median(df):\n",
    "    \"\"\"\n",
    "    Функция 1) заменяет данные о стаже на аналогичные взятые по модулю, \n",
    "            2) собирает из входного датасета данные о выбросах в колонке \"стаж\" (days_employed). Выбросом считается значение \n",
    "               стажа, превышающее возраст заемщика. Случаи, когда стаж превышает значение (возраст заемщика \"минус\" 14 лет) \n",
    "               игнорируются: ошибка принимается за случайную, допущенную при ручном внесении данных в систему,\n",
    "            3) заполняет пропуски медианными значениями стажа для группы, полученой в результате группировки сначала по полу,\n",
    "               затем по возрасту\n",
    "    \n",
    "    :df: исследуемый датасет\n",
    "    :outlier_days_employed: датасет, содержащий в себе все строки из df, в которых стаж превышает текущий возраст. Содержит \n",
    "                            колонки 'dob_years', 'days_employed', 'years_excess' (превышение стажа над возрастом в годах)\n",
    "    :outlier_days_employed_grouped: outlier_days_employed, сгруппированный сначала по полу, затем по возрасту. Колонка\n",
    "                                    'days_employed_median' содержит медианные для каждой группы значения стажа\n",
    "    :df_merged: итоговый датасет, получаемый путем последовательного слияния исходного df с промежуточными таблицами\n",
    "                (последовательность слияний см. ниже)\n",
    "    :return: кортеж из трех датасетов: \n",
    "             1) исходный датасет, в котором пропуски в 'days_employed' заменены на медианное для данного пола и возраста,\n",
    "                аномальные значения стажа также заменены на медианное для данной группы. Стаж во всех случаях взят по модулю\n",
    "             2) датасет, содержащий колонки 'dob_years' - возраст заемщика, 'days_employed' - заявленный стаж заемщика,\n",
    "                'years_excess' - превышение стажа над возрастом в годах. Нумерация строк совпадает с нумерацией в исходном\n",
    "                датасете. \n",
    "    \"\"\"\n",
    "    # приведение всех данных о стаже к неотрицательным значениям\n",
    "    df['days_employed'] = abs(df['days_employed'])\n",
    "    \n",
    "    # создание датасета с аномальным стажем (содержание см. в описании функции)\n",
    "    outlier_days_employed = df.loc[df.loc[:, 'dob_years'] * 365 - df.loc[:, 'days_employed'] < 0][['dob_years', 'days_employed']]\n",
    "    \n",
    "    # создание колонки с превышением стажа над возрастом в годах\n",
    "    outlier_days_employed['years_excess'] = outlier_days_employed['days_employed'] / 365 - outlier_days_employed['dob_years']\n",
    "    \n",
    "    # создание датасета (содержание см. в описании функции)\n",
    "    no_outlier_days_employed = df.loc[~(df.loc[:, 'days_employed'].isna())&(df.loc[:, 'dob_years'] * 365 - df.loc[:, 'days_employed'] >= 0)]\n",
    "    \n",
    "    # группировка датасета по полу и возрасту, подсчет медианных значений стажа\n",
    "    no_outlier_days_employed_grouped = no_outlier_days_employed.groupby(['gender', 'dob_years']).agg({'days_employed': 'median'}).rename(columns={'days_employed': 'days_employed_median'})\n",
    "    \n",
    "    # присоединение к исходному датасету колонки с данными о среднем стаже\n",
    "    df_merged = df.merge(no_outlier_days_employed_grouped, on=['gender', 'dob_years'], how='left')\n",
    "    \n",
    "    # замена пропусков в колонке 'days_employed' на медианные значения стажа \n",
    "    df_merged.loc[(df_merged.loc[:, 'days_employed'].isna()), 'days_employed'] = df_merged.loc[df_merged.loc[:, 'days_employed'].isna(), 'days_employed_median']\n",
    "    \n",
    "    return df_merged, outlier_days_employed\n",
    "\n",
    "data_raw, outlier_days_employed = replace_na_days_employed_with_median(data_raw)\n",
    "data_raw.info()"
   ]
  },
  {
   "cell_type": "markdown",
   "metadata": {},
   "source": [
    "#### Промежуточный вывод\n",
    "После проведенных операций в колонке 'days_employed' все еще остаются пропуски. Необходима дальнейшая проверка.  "
   ]
  },
  {
   "cell_type": "code",
   "execution_count": 14,
   "metadata": {},
   "outputs": [
    {
     "name": "stdout",
     "output_type": "stream",
     "text": [
      "Количество строк с пропусками: 10\n"
     ]
    }
   ],
   "source": [
    "days_employed_na_count = data_raw.loc[(data_raw.loc[:, 'days_employed'].isna())]['gender'].count()\n",
    "print(f'Количество строк с пропусками: {days_employed_na_count}')"
   ]
  },
  {
   "cell_type": "markdown",
   "metadata": {},
   "source": [
    "Строки с пропусками в колонке 'days_employed':"
   ]
  },
  {
   "cell_type": "code",
   "execution_count": 15,
   "metadata": {},
   "outputs": [
    {
     "data": {
      "text/html": [
       "<div>\n",
       "<style scoped>\n",
       "    .dataframe tbody tr th:only-of-type {\n",
       "        vertical-align: middle;\n",
       "    }\n",
       "\n",
       "    .dataframe tbody tr th {\n",
       "        vertical-align: top;\n",
       "    }\n",
       "\n",
       "    .dataframe thead th {\n",
       "        text-align: right;\n",
       "    }\n",
       "</style>\n",
       "<table border=\"1\" class=\"dataframe\">\n",
       "  <thead>\n",
       "    <tr style=\"text-align: right;\">\n",
       "      <th></th>\n",
       "      <th>children</th>\n",
       "      <th>days_employed</th>\n",
       "      <th>dob_years</th>\n",
       "      <th>education</th>\n",
       "      <th>education_id</th>\n",
       "      <th>family_status</th>\n",
       "      <th>family_status_id</th>\n",
       "      <th>gender</th>\n",
       "      <th>income_type</th>\n",
       "      <th>debt</th>\n",
       "      <th>total_income</th>\n",
       "      <th>purpose</th>\n",
       "      <th>total_income_mean</th>\n",
       "      <th>total_income_mean_gender</th>\n",
       "      <th>days_employed_median</th>\n",
       "    </tr>\n",
       "  </thead>\n",
       "  <tbody>\n",
       "    <tr>\n",
       "      <td>1890</td>\n",
       "      <td>0</td>\n",
       "      <td>NaN</td>\n",
       "      <td>0</td>\n",
       "      <td>высшее</td>\n",
       "      <td>0</td>\n",
       "      <td>Не женат / не замужем</td>\n",
       "      <td>4</td>\n",
       "      <td>F</td>\n",
       "      <td>сотрудник</td>\n",
       "      <td>0</td>\n",
       "      <td>154137.194106</td>\n",
       "      <td>жилье</td>\n",
       "      <td>142763.314708</td>\n",
       "      <td>154137.194106</td>\n",
       "      <td>NaN</td>\n",
       "    </tr>\n",
       "    <tr>\n",
       "      <td>2284</td>\n",
       "      <td>0</td>\n",
       "      <td>NaN</td>\n",
       "      <td>0</td>\n",
       "      <td>среднее</td>\n",
       "      <td>1</td>\n",
       "      <td>вдовец / вдова</td>\n",
       "      <td>2</td>\n",
       "      <td>F</td>\n",
       "      <td>пенсионер</td>\n",
       "      <td>0</td>\n",
       "      <td>154137.194106</td>\n",
       "      <td>недвижимость</td>\n",
       "      <td>142763.314708</td>\n",
       "      <td>154137.194106</td>\n",
       "      <td>NaN</td>\n",
       "    </tr>\n",
       "    <tr>\n",
       "      <td>4064</td>\n",
       "      <td>1</td>\n",
       "      <td>NaN</td>\n",
       "      <td>0</td>\n",
       "      <td>среднее</td>\n",
       "      <td>1</td>\n",
       "      <td>гражданский брак</td>\n",
       "      <td>1</td>\n",
       "      <td>M</td>\n",
       "      <td>компаньон</td>\n",
       "      <td>0</td>\n",
       "      <td>193077.248413</td>\n",
       "      <td>ремонт жилью</td>\n",
       "      <td>195255.623276</td>\n",
       "      <td>193077.248413</td>\n",
       "      <td>NaN</td>\n",
       "    </tr>\n",
       "    <tr>\n",
       "      <td>5014</td>\n",
       "      <td>0</td>\n",
       "      <td>NaN</td>\n",
       "      <td>0</td>\n",
       "      <td>среднее</td>\n",
       "      <td>1</td>\n",
       "      <td>женат / замужем</td>\n",
       "      <td>0</td>\n",
       "      <td>F</td>\n",
       "      <td>компаньон</td>\n",
       "      <td>0</td>\n",
       "      <td>154137.194106</td>\n",
       "      <td>покупка недвижимости</td>\n",
       "      <td>142763.314708</td>\n",
       "      <td>154137.194106</td>\n",
       "      <td>NaN</td>\n",
       "    </tr>\n",
       "    <tr>\n",
       "      <td>6411</td>\n",
       "      <td>0</td>\n",
       "      <td>NaN</td>\n",
       "      <td>0</td>\n",
       "      <td>высшее</td>\n",
       "      <td>0</td>\n",
       "      <td>гражданский брак</td>\n",
       "      <td>1</td>\n",
       "      <td>F</td>\n",
       "      <td>пенсионер</td>\n",
       "      <td>0</td>\n",
       "      <td>154137.194106</td>\n",
       "      <td>свадьба</td>\n",
       "      <td>142763.314708</td>\n",
       "      <td>154137.194106</td>\n",
       "      <td>NaN</td>\n",
       "    </tr>\n",
       "    <tr>\n",
       "      <td>6670</td>\n",
       "      <td>0</td>\n",
       "      <td>NaN</td>\n",
       "      <td>0</td>\n",
       "      <td>Высшее</td>\n",
       "      <td>0</td>\n",
       "      <td>в разводе</td>\n",
       "      <td>3</td>\n",
       "      <td>F</td>\n",
       "      <td>пенсионер</td>\n",
       "      <td>0</td>\n",
       "      <td>154137.194106</td>\n",
       "      <td>покупка жилой недвижимости</td>\n",
       "      <td>142763.314708</td>\n",
       "      <td>154137.194106</td>\n",
       "      <td>NaN</td>\n",
       "    </tr>\n",
       "    <tr>\n",
       "      <td>8574</td>\n",
       "      <td>0</td>\n",
       "      <td>NaN</td>\n",
       "      <td>0</td>\n",
       "      <td>среднее</td>\n",
       "      <td>1</td>\n",
       "      <td>женат / замужем</td>\n",
       "      <td>0</td>\n",
       "      <td>F</td>\n",
       "      <td>сотрудник</td>\n",
       "      <td>0</td>\n",
       "      <td>154137.194106</td>\n",
       "      <td>недвижимость</td>\n",
       "      <td>142763.314708</td>\n",
       "      <td>154137.194106</td>\n",
       "      <td>NaN</td>\n",
       "    </tr>\n",
       "    <tr>\n",
       "      <td>12402</td>\n",
       "      <td>3</td>\n",
       "      <td>NaN</td>\n",
       "      <td>0</td>\n",
       "      <td>среднее</td>\n",
       "      <td>1</td>\n",
       "      <td>женат / замужем</td>\n",
       "      <td>0</td>\n",
       "      <td>M</td>\n",
       "      <td>сотрудник</td>\n",
       "      <td>0</td>\n",
       "      <td>193077.248413</td>\n",
       "      <td>операции с коммерческой недвижимостью</td>\n",
       "      <td>195255.623276</td>\n",
       "      <td>193077.248413</td>\n",
       "      <td>NaN</td>\n",
       "    </tr>\n",
       "    <tr>\n",
       "      <td>13740</td>\n",
       "      <td>0</td>\n",
       "      <td>NaN</td>\n",
       "      <td>0</td>\n",
       "      <td>среднее</td>\n",
       "      <td>1</td>\n",
       "      <td>гражданский брак</td>\n",
       "      <td>1</td>\n",
       "      <td>F</td>\n",
       "      <td>сотрудник</td>\n",
       "      <td>0</td>\n",
       "      <td>154137.194106</td>\n",
       "      <td>на проведение свадьбы</td>\n",
       "      <td>142763.314708</td>\n",
       "      <td>154137.194106</td>\n",
       "      <td>NaN</td>\n",
       "    </tr>\n",
       "    <tr>\n",
       "      <td>19828</td>\n",
       "      <td>0</td>\n",
       "      <td>NaN</td>\n",
       "      <td>0</td>\n",
       "      <td>среднее</td>\n",
       "      <td>1</td>\n",
       "      <td>женат / замужем</td>\n",
       "      <td>0</td>\n",
       "      <td>F</td>\n",
       "      <td>сотрудник</td>\n",
       "      <td>0</td>\n",
       "      <td>154137.194106</td>\n",
       "      <td>жилье</td>\n",
       "      <td>142763.314708</td>\n",
       "      <td>154137.194106</td>\n",
       "      <td>NaN</td>\n",
       "    </tr>\n",
       "  </tbody>\n",
       "</table>\n",
       "</div>"
      ],
      "text/plain": [
       "       children  days_employed  dob_years education  education_id  \\\n",
       "1890          0            NaN          0    высшее             0   \n",
       "2284          0            NaN          0   среднее             1   \n",
       "4064          1            NaN          0   среднее             1   \n",
       "5014          0            NaN          0   среднее             1   \n",
       "6411          0            NaN          0    высшее             0   \n",
       "6670          0            NaN          0    Высшее             0   \n",
       "8574          0            NaN          0   среднее             1   \n",
       "12402         3            NaN          0   среднее             1   \n",
       "13740         0            NaN          0   среднее             1   \n",
       "19828         0            NaN          0   среднее             1   \n",
       "\n",
       "               family_status  family_status_id gender income_type  debt  \\\n",
       "1890   Не женат / не замужем                 4      F   сотрудник     0   \n",
       "2284          вдовец / вдова                 2      F   пенсионер     0   \n",
       "4064        гражданский брак                 1      M   компаньон     0   \n",
       "5014         женат / замужем                 0      F   компаньон     0   \n",
       "6411        гражданский брак                 1      F   пенсионер     0   \n",
       "6670               в разводе                 3      F   пенсионер     0   \n",
       "8574         женат / замужем                 0      F   сотрудник     0   \n",
       "12402        женат / замужем                 0      M   сотрудник     0   \n",
       "13740       гражданский брак                 1      F   сотрудник     0   \n",
       "19828        женат / замужем                 0      F   сотрудник     0   \n",
       "\n",
       "        total_income                                purpose  \\\n",
       "1890   154137.194106                                  жилье   \n",
       "2284   154137.194106                           недвижимость   \n",
       "4064   193077.248413                           ремонт жилью   \n",
       "5014   154137.194106                   покупка недвижимости   \n",
       "6411   154137.194106                                свадьба   \n",
       "6670   154137.194106             покупка жилой недвижимости   \n",
       "8574   154137.194106                           недвижимость   \n",
       "12402  193077.248413  операции с коммерческой недвижимостью   \n",
       "13740  154137.194106                  на проведение свадьбы   \n",
       "19828  154137.194106                                  жилье   \n",
       "\n",
       "       total_income_mean  total_income_mean_gender  days_employed_median  \n",
       "1890       142763.314708             154137.194106                   NaN  \n",
       "2284       142763.314708             154137.194106                   NaN  \n",
       "4064       195255.623276             193077.248413                   NaN  \n",
       "5014       142763.314708             154137.194106                   NaN  \n",
       "6411       142763.314708             154137.194106                   NaN  \n",
       "6670       142763.314708             154137.194106                   NaN  \n",
       "8574       142763.314708             154137.194106                   NaN  \n",
       "12402      195255.623276             193077.248413                   NaN  \n",
       "13740      142763.314708             154137.194106                   NaN  \n",
       "19828      142763.314708             154137.194106                   NaN  "
      ]
     },
     "execution_count": 15,
     "metadata": {},
     "output_type": "execute_result"
    }
   ],
   "source": [
    "data_raw.loc[(data_raw.loc[:, 'days_employed'].isna())].head(10)"
   ]
  },
  {
   "cell_type": "markdown",
   "metadata": {},
   "source": [
    "Возникновение этих строк связано с тем, что в изначальном датасете в этих строках в колонке 'days_employed' был пропуск, а в колонке 'dob_years' был указан 0.  \n",
    "Пропуски будут удалены, в силу того, что без дополнительного анализа невозможно однозначно сделать выбор в пользу медианы или среднего значения (об этом далее). "
   ]
  },
  {
   "cell_type": "code",
   "execution_count": 16,
   "metadata": {},
   "outputs": [
    {
     "name": "stdout",
     "output_type": "stream",
     "text": [
      "<class 'pandas.core.frame.DataFrame'>\n",
      "RangeIndex: 21419 entries, 0 to 21418\n",
      "Data columns (total 15 columns):\n",
      "children                    21419 non-null int64\n",
      "days_employed               21419 non-null float64\n",
      "dob_years                   21419 non-null int64\n",
      "education                   21419 non-null object\n",
      "education_id                21419 non-null int64\n",
      "family_status               21419 non-null object\n",
      "family_status_id            21419 non-null int64\n",
      "gender                      21419 non-null object\n",
      "income_type                 21419 non-null object\n",
      "debt                        21419 non-null int64\n",
      "total_income                21419 non-null float64\n",
      "purpose                     21419 non-null object\n",
      "total_income_mean           21419 non-null float64\n",
      "total_income_mean_gender    21419 non-null float64\n",
      "days_employed_median        21419 non-null float64\n",
      "dtypes: float64(5), int64(5), object(5)\n",
      "memory usage: 2.5+ MB\n"
     ]
    }
   ],
   "source": [
    "#удаление оставшихся 10 пропусков и вывод информации о текущем состоянии таблицы\n",
    "# df - исходный датасет после очистки от пропусков\n",
    "df = data_raw.dropna().reset_index(drop=True)\n",
    "df.info()"
   ]
  },
  {
   "cell_type": "markdown",
   "metadata": {},
   "source": [
    "В функции *replace_na_days_employed_with_median* также были определены выбросы в колонке 'days_employed'. Строки содержащие выбросы были сохранены в отдельный датафрэйм. Именно выбросы стали причиной удаления 10 строк таблицы пунктом выше.   \n",
    "Сводная информация о строках с выбросами:"
   ]
  },
  {
   "cell_type": "code",
   "execution_count": 17,
   "metadata": {},
   "outputs": [
    {
     "name": "stdout",
     "output_type": "stream",
     "text": [
      "<class 'pandas.core.frame.DataFrame'>\n",
      "Int64Index: 3519 entries, 4 to 21520\n",
      "Data columns (total 3 columns):\n",
      "dob_years        3519 non-null int64\n",
      "days_employed    3519 non-null float64\n",
      "years_excess     3519 non-null float64\n",
      "dtypes: float64(2), int64(1)\n",
      "memory usage: 110.0 KB\n"
     ]
    }
   ],
   "source": [
    "outlier_days_employed.info()"
   ]
  },
  {
   "cell_type": "markdown",
   "metadata": {},
   "source": [
    "Первые 5 строк (в колонке 'years_excess' приведено превышение стажа над возрастом в годах):"
   ]
  },
  {
   "cell_type": "code",
   "execution_count": 18,
   "metadata": {},
   "outputs": [
    {
     "data": {
      "text/html": [
       "<div>\n",
       "<style scoped>\n",
       "    .dataframe tbody tr th:only-of-type {\n",
       "        vertical-align: middle;\n",
       "    }\n",
       "\n",
       "    .dataframe tbody tr th {\n",
       "        vertical-align: top;\n",
       "    }\n",
       "\n",
       "    .dataframe thead th {\n",
       "        text-align: right;\n",
       "    }\n",
       "</style>\n",
       "<table border=\"1\" class=\"dataframe\">\n",
       "  <thead>\n",
       "    <tr style=\"text-align: right;\">\n",
       "      <th></th>\n",
       "      <th>dob_years</th>\n",
       "      <th>days_employed</th>\n",
       "      <th>years_excess</th>\n",
       "    </tr>\n",
       "  </thead>\n",
       "  <tbody>\n",
       "    <tr>\n",
       "      <td>4</td>\n",
       "      <td>53</td>\n",
       "      <td>340266.072047</td>\n",
       "      <td>879.235814</td>\n",
       "    </tr>\n",
       "    <tr>\n",
       "      <td>18</td>\n",
       "      <td>53</td>\n",
       "      <td>400281.136913</td>\n",
       "      <td>1043.660649</td>\n",
       "    </tr>\n",
       "    <tr>\n",
       "      <td>24</td>\n",
       "      <td>57</td>\n",
       "      <td>338551.952911</td>\n",
       "      <td>870.539597</td>\n",
       "    </tr>\n",
       "    <tr>\n",
       "      <td>25</td>\n",
       "      <td>67</td>\n",
       "      <td>363548.489348</td>\n",
       "      <td>929.023258</td>\n",
       "    </tr>\n",
       "    <tr>\n",
       "      <td>30</td>\n",
       "      <td>62</td>\n",
       "      <td>335581.668515</td>\n",
       "      <td>857.401832</td>\n",
       "    </tr>\n",
       "    <tr>\n",
       "      <td>35</td>\n",
       "      <td>68</td>\n",
       "      <td>394021.072184</td>\n",
       "      <td>1011.509787</td>\n",
       "    </tr>\n",
       "    <tr>\n",
       "      <td>50</td>\n",
       "      <td>63</td>\n",
       "      <td>353731.432338</td>\n",
       "      <td>906.127212</td>\n",
       "    </tr>\n",
       "    <tr>\n",
       "      <td>56</td>\n",
       "      <td>64</td>\n",
       "      <td>370145.087237</td>\n",
       "      <td>950.096129</td>\n",
       "    </tr>\n",
       "    <tr>\n",
       "      <td>71</td>\n",
       "      <td>62</td>\n",
       "      <td>338113.529892</td>\n",
       "      <td>864.338438</td>\n",
       "    </tr>\n",
       "    <tr>\n",
       "      <td>78</td>\n",
       "      <td>61</td>\n",
       "      <td>359722.945074</td>\n",
       "      <td>924.542315</td>\n",
       "    </tr>\n",
       "  </tbody>\n",
       "</table>\n",
       "</div>"
      ],
      "text/plain": [
       "    dob_years  days_employed  years_excess\n",
       "4          53  340266.072047    879.235814\n",
       "18         53  400281.136913   1043.660649\n",
       "24         57  338551.952911    870.539597\n",
       "25         67  363548.489348    929.023258\n",
       "30         62  335581.668515    857.401832\n",
       "35         68  394021.072184   1011.509787\n",
       "50         63  353731.432338    906.127212\n",
       "56         64  370145.087237    950.096129\n",
       "71         62  338113.529892    864.338438\n",
       "78         61  359722.945074    924.542315"
      ]
     },
     "execution_count": 18,
     "metadata": {},
     "output_type": "execute_result"
    }
   ],
   "source": [
    "outlier_days_employed.head(10)"
   ]
  },
  {
   "cell_type": "code",
   "execution_count": 19,
   "metadata": {},
   "outputs": [
    {
     "name": "stdout",
     "output_type": "stream",
     "text": [
      "Процент строк, содержащих выбросы в колонке 'days_employed': 16.4%\n"
     ]
    }
   ],
   "source": [
    "outlier_days_employed_percent = outlier_days_employed.shape[0] / df.shape[0]\n",
    "print(\"Процент строк, содержащих выбросы в колонке 'days_employed': {:.1%}\".format(outlier_days_employed_percent))"
   ]
  },
  {
   "cell_type": "markdown",
   "metadata": {},
   "source": [
    "В 16 процентах случаев данные в колонке 'days_employed' аномально завышены. В ТЗ указаны единицы измерения трудового стажа - дни, однако такое превышение говорит об иных единицах измерения. Систематический характер ошибки явно указывает на сбой (в рамках данного ТЗ) в алгоритмах получения данных.  \n",
    "Вероятнее всего алгоритм в 16.4% случаев регистрирует стаж в часах. С учетом этого превышение устраняется:"
   ]
  },
  {
   "cell_type": "code",
   "execution_count": 20,
   "metadata": {},
   "outputs": [
    {
     "data": {
      "text/html": [
       "<div>\n",
       "<style scoped>\n",
       "    .dataframe tbody tr th:only-of-type {\n",
       "        vertical-align: middle;\n",
       "    }\n",
       "\n",
       "    .dataframe tbody tr th {\n",
       "        vertical-align: top;\n",
       "    }\n",
       "\n",
       "    .dataframe thead th {\n",
       "        text-align: right;\n",
       "    }\n",
       "</style>\n",
       "<table border=\"1\" class=\"dataframe\">\n",
       "  <thead>\n",
       "    <tr style=\"text-align: right;\">\n",
       "      <th></th>\n",
       "      <th>dob_years</th>\n",
       "      <th>days_employed</th>\n",
       "      <th>years_excess</th>\n",
       "      <th>career_start</th>\n",
       "    </tr>\n",
       "  </thead>\n",
       "  <tbody>\n",
       "    <tr>\n",
       "      <td>4</td>\n",
       "      <td>53</td>\n",
       "      <td>340266.072047</td>\n",
       "      <td>879.235814</td>\n",
       "      <td>38.843159</td>\n",
       "    </tr>\n",
       "    <tr>\n",
       "      <td>18</td>\n",
       "      <td>53</td>\n",
       "      <td>400281.136913</td>\n",
       "      <td>1043.660649</td>\n",
       "      <td>45.694194</td>\n",
       "    </tr>\n",
       "    <tr>\n",
       "      <td>24</td>\n",
       "      <td>57</td>\n",
       "      <td>338551.952911</td>\n",
       "      <td>870.539597</td>\n",
       "      <td>38.647483</td>\n",
       "    </tr>\n",
       "    <tr>\n",
       "      <td>25</td>\n",
       "      <td>67</td>\n",
       "      <td>363548.489348</td>\n",
       "      <td>929.023258</td>\n",
       "      <td>41.500969</td>\n",
       "    </tr>\n",
       "    <tr>\n",
       "      <td>30</td>\n",
       "      <td>62</td>\n",
       "      <td>335581.668515</td>\n",
       "      <td>857.401832</td>\n",
       "      <td>38.308410</td>\n",
       "    </tr>\n",
       "    <tr>\n",
       "      <td>35</td>\n",
       "      <td>68</td>\n",
       "      <td>394021.072184</td>\n",
       "      <td>1011.509787</td>\n",
       "      <td>44.979574</td>\n",
       "    </tr>\n",
       "    <tr>\n",
       "      <td>50</td>\n",
       "      <td>63</td>\n",
       "      <td>353731.432338</td>\n",
       "      <td>906.127212</td>\n",
       "      <td>40.380300</td>\n",
       "    </tr>\n",
       "    <tr>\n",
       "      <td>56</td>\n",
       "      <td>64</td>\n",
       "      <td>370145.087237</td>\n",
       "      <td>950.096129</td>\n",
       "      <td>42.254005</td>\n",
       "    </tr>\n",
       "    <tr>\n",
       "      <td>71</td>\n",
       "      <td>62</td>\n",
       "      <td>338113.529892</td>\n",
       "      <td>864.338438</td>\n",
       "      <td>38.597435</td>\n",
       "    </tr>\n",
       "    <tr>\n",
       "      <td>78</td>\n",
       "      <td>61</td>\n",
       "      <td>359722.945074</td>\n",
       "      <td>924.542315</td>\n",
       "      <td>41.064263</td>\n",
       "    </tr>\n",
       "  </tbody>\n",
       "</table>\n",
       "</div>"
      ],
      "text/plain": [
       "    dob_years  days_employed  years_excess  career_start\n",
       "4          53  340266.072047    879.235814     38.843159\n",
       "18         53  400281.136913   1043.660649     45.694194\n",
       "24         57  338551.952911    870.539597     38.647483\n",
       "25         67  363548.489348    929.023258     41.500969\n",
       "30         62  335581.668515    857.401832     38.308410\n",
       "35         68  394021.072184   1011.509787     44.979574\n",
       "50         63  353731.432338    906.127212     40.380300\n",
       "56         64  370145.087237    950.096129     42.254005\n",
       "71         62  338113.529892    864.338438     38.597435\n",
       "78         61  359722.945074    924.542315     41.064263"
      ]
     },
     "execution_count": 20,
     "metadata": {},
     "output_type": "execute_result"
    }
   ],
   "source": [
    "# в колонке 'start_career' указывается возраст заемщика, с которого начинается отчет его трудового стажа\n",
    "outlier_days_employed['career_start'] = (outlier_days_employed['days_employed']) / (24 * 365)\n",
    "outlier_days_employed.head(10)"
   ]
  },
  {
   "cell_type": "markdown",
   "metadata": {},
   "source": [
    "Необходимо выяснить, присутствуют ли с учетом введенных поправок на единицы измерения строки, в которых стаж все равно превышает возраст:"
   ]
  },
  {
   "cell_type": "code",
   "execution_count": 21,
   "metadata": {},
   "outputs": [
    {
     "name": "stdout",
     "output_type": "stream",
     "text": [
      "<class 'pandas.core.frame.DataFrame'>\n",
      "Int64Index: 145 entries, 99 to 21312\n",
      "Data columns (total 4 columns):\n",
      "dob_years        145 non-null int64\n",
      "days_employed    145 non-null float64\n",
      "years_excess     145 non-null float64\n",
      "career_start     145 non-null float64\n",
      "dtypes: float64(3), int64(1)\n",
      "memory usage: 5.7 KB\n"
     ]
    }
   ],
   "source": [
    "outlier_days_employed.loc[outlier_days_employed.loc[:, 'dob_years'] - outlier_days_employed.loc[:, 'career_start'] <= 0].info()"
   ]
  },
  {
   "cell_type": "markdown",
   "metadata": {},
   "source": [
    "В 145 случаях стаж превышает возраст: это может быть связано как с указанием нулевого возраста, так и с указанием ненулевого возраста, который тем не менее не превышает стаж.  \n",
    "Для получения более полного представления о механизмах возникновения подобной проблемы был проведен расчет среднего возраста заёмщиков, данные о стаже которых были внесены некорректно:"
   ]
  },
  {
   "cell_type": "code",
   "execution_count": 22,
   "metadata": {},
   "outputs": [
    {
     "name": "stdout",
     "output_type": "stream",
     "text": [
      "Средний возраст заёмщиков, данные о стаже которых были внесены некорректно: 57.9\n",
      "Минимальный возраст заёмщиков, данные о стаже которых были внесены некорректно: 0.0\n",
      "Максимальный возраст заёмщиков, данные о стаже которых были внесены некорректно: 74.0\n"
     ]
    }
   ],
   "source": [
    "mean_dob_years = outlier_days_employed['dob_years'].mean()\n",
    "min_dob_years = outlier_days_employed['dob_years'].min()\n",
    "max_dob_years = outlier_days_employed['dob_years'].max()\n",
    "print('Средний возраст заёмщиков, данные о стаже которых были внесены некорректно: {:.1f}'.format(mean_dob_years))\n",
    "print('Минимальный возраст заёмщиков, данные о стаже которых были внесены некорректно: {:.1f}'.format(min_dob_years))\n",
    "print('Максимальный возраст заёмщиков, данные о стаже которых были внесены некорректно: {:.1f}'.format(max_dob_years))"
   ]
  },
  {
   "cell_type": "markdown",
   "metadata": {},
   "source": [
    "Утверждение о наличии превышения стажа над возрастом в случае, когда возраст равен 0 подтвердилось, однако среднее значение возраста равно 57.9, значит, проблема наиболее часто возникает в случае более старших заёмщиков. Эти выводы могут помочь с устранением ошибки."
   ]
  },
  {
   "cell_type": "markdown",
   "metadata": {},
   "source": [
    "### Вывод"
   ]
  },
  {
   "cell_type": "markdown",
   "metadata": {},
   "source": [
    "1. Данные о стаже были приведены к неотрицательному виду\n",
    "1. На данном этапе работы сначала было установлено общее количество пропусков. Значения отсутствовали в колонках 'days_employed' и 'total_income'. \n",
    "2. Анализ показал, что во всех случаях пропуски \"идут парами\", что явно указывает на системный характер их возникновения.  \n",
    "3. При заполнении пропусков использовались статистические характеристики групп, полученных путем разделения данных по полу, затем по возрасту.  \n",
    "4. Пропуски в колонке 'total_income' были заполнены средними значенями для группы, в случае, если группировка по возрасту неприменима, группировка производилась только по половому признаку\n",
    "5. Пропуски в колонке 'days_employed' были заполнены медианными значениями для данной группы\n",
    "6. На этапе заполнения пропусков были удалены следующие строки: \n",
    "  1. Строка со значением 'XNA' в колонке 'gender'\n",
    "  2. 10 строк, в которых в колонке 'days_employed' стоят пропуски, а возраст равен 0\n",
    "7. Была обнаружена систематическая ошибка в колонке 'days_employed': в 16.4% случаев стаж указывался в часах. В измененном датасете сохранилос 145 строк, в которых стаж превышает возраст. Были установлены базовые характеристики данных с ошибками, которые могут быть использованы при анализе проблемы\n",
    "8. В результате обогащения данных датасет сократился на 0.05%, вместо 10.1%"
   ]
  },
  {
   "cell_type": "markdown",
   "metadata": {},
   "source": [
    "### Обработка оставшихся выбросов"
   ]
  },
  {
   "cell_type": "markdown",
   "metadata": {},
   "source": [
    "Все колонки с количественными значениями следует проверить на наличие выбросов - аномально высоких значений.  \n",
    "Ранее это уже было сделано с колонкой 'days_employed', выяснилось, что в 16% случаев значение стажа, предположительно, записано в часах (подробности - в выводах выше).  \n",
    "Также на этапе группировки данных по возрасту и полу было установлено, что выбросы присутствуют в колонке 'dob_years' (речь о нулевом возрасте - отрицательных или экстримально высоких значений нет). Присутствие этих выбросов было учтено при заполнении пропусков.  \n",
    "Отсутствие выбросов в колонке 'total_income' было доказано выше.  \n",
    "Необходимо проверить на наличие выбросов колонки 'children', 'debt'.  \n",
    "  \n",
    "#### Колонка 'children'"
   ]
  },
  {
   "cell_type": "code",
   "execution_count": 23,
   "metadata": {},
   "outputs": [
    {
     "data": {
      "text/plain": [
       "children\n",
       "-1        47\n",
       " 0     14076\n",
       " 1      4801\n",
       " 2      2042\n",
       " 3       328\n",
       " 4        41\n",
       " 5         9\n",
       " 20       75\n",
       "Name: dob_years, dtype: int64"
      ]
     },
     "execution_count": 23,
     "metadata": {},
     "output_type": "execute_result"
    }
   ],
   "source": [
    "# группировка датасета по количеству детей\n",
    "df_grouped = df.groupby('children')['dob_years'].count()\n",
    "df_grouped"
   ]
  },
  {
   "cell_type": "markdown",
   "metadata": {},
   "source": [
    "В данных присутствуют строки с отрицательным количеством детей, и данные о заемщиках с 20-ю детьми.  \n",
    "1. В первом случае необходимо заменить -1 на 1: принимается, что это ошибка ввода, а не условное обозначение отстутствия детей. В любом случае, группа с единственным ребенком расширится всего на 1%, что не должно негативно сказаться на итоговом значении соответствующей метрики.  \n",
    "2. Во втором случае 20 будет заменено на 2: очевидно, что ошибка возникла при ручном вводе числа 2, расположенного на клавиатуре над числом 0. "
   ]
  },
  {
   "cell_type": "code",
   "execution_count": 24,
   "metadata": {},
   "outputs": [
    {
     "data": {
      "text/plain": [
       "children\n",
       "0    14076\n",
       "1     4848\n",
       "2     2117\n",
       "3      328\n",
       "4       41\n",
       "5        9\n",
       "Name: dob_years, dtype: int64"
      ]
     },
     "execution_count": 24,
     "metadata": {},
     "output_type": "execute_result"
    }
   ],
   "source": [
    "# замена значений -1 в колонке 'children'\n",
    "df.loc[df['children'] == -1, 'children'] = df.loc[df['children'] == -1, 'children'].replace(-1, 1)\n",
    "\n",
    "# замена значений 20 в колонке 'children'\n",
    "df.loc[df['children'] == 20, 'children'] = df.loc[df['children'] == 20, 'children'].replace(20, 2)\n",
    "\n",
    "# повторная группировка по столбцу 'children' и вывод результата\n",
    "df_grouped = df.groupby('children')['dob_years'].count()\n",
    "df_grouped"
   ]
  },
  {
   "cell_type": "markdown",
   "metadata": {},
   "source": [
    "Выбросы в колонке 'children' устранены"
   ]
  },
  {
   "cell_type": "markdown",
   "metadata": {},
   "source": [
    "#### Колонка 'debt'"
   ]
  },
  {
   "cell_type": "markdown",
   "metadata": {},
   "source": [
    "В колонке 'debt' использован логический тип данных.  \n",
    "Проверка колонки на наличие аномальных значений:"
   ]
  },
  {
   "cell_type": "code",
   "execution_count": 25,
   "metadata": {},
   "outputs": [
    {
     "name": "stdout",
     "output_type": "stream",
     "text": [
      "Значения в колонке debt: [0 1]\n"
     ]
    }
   ],
   "source": [
    "debt_values = df['debt'].unique()\n",
    "print(f'Значения в колонке debt: {debt_values}')"
   ]
  },
  {
   "cell_type": "markdown",
   "metadata": {},
   "source": [
    "Данные в колонке 'debt' корректны"
   ]
  },
  {
   "cell_type": "markdown",
   "metadata": {},
   "source": [
    "#### Колонка 'total_income'"
   ]
  },
  {
   "cell_type": "code",
   "execution_count": 26,
   "metadata": {},
   "outputs": [
    {
     "name": "stdout",
     "output_type": "stream",
     "text": [
      "Минимальное значение дохода: 20667.26379327158\n",
      "Максимальное значение дохода: 2265604.028722744\n",
      "Среднее значение дохода: 167371.64669376472\n"
     ]
    }
   ],
   "source": [
    "total_income_max = df['total_income'].max()\n",
    "total_income_min = df['total_income'].min()\n",
    "total_income_mean = df['total_income'].mean()\n",
    "print(f'Минимальное значение дохода: {total_income_min}')\n",
    "print(f'Максимальное значение дохода: {total_income_max}')\n",
    "print(f'Среднее значение дохода: {total_income_mean}')"
   ]
  },
  {
   "cell_type": "markdown",
   "metadata": {},
   "source": [
    "Основываясь на анализе статистических показателей колонки 'total_income', можно сделать вывод об отсутствии выбросов: минимальный доход неотрицателен, максимальный - относительно высок, но превышает минимальный всего на два порядка. "
   ]
  },
  {
   "cell_type": "markdown",
   "metadata": {},
   "source": [
    "#### Вывод\n",
    "К данному моменту на наличие выбросов были проверены все колонки с числовыми данными, имеющиеся выбросы были устранены."
   ]
  },
  {
   "cell_type": "markdown",
   "metadata": {},
   "source": [
    "### Замена типа данных"
   ]
  },
  {
   "cell_type": "markdown",
   "metadata": {},
   "source": [
    "В колонках 'days_employed' и 'total_income' данные представлены типом float64. Необходимо провести замену на int64 с целью повышения точности анализа и упрощения расчетов. "
   ]
  },
  {
   "cell_type": "code",
   "execution_count": 27,
   "metadata": {},
   "outputs": [
    {
     "name": "stdout",
     "output_type": "stream",
     "text": [
      "<class 'pandas.core.frame.DataFrame'>\n",
      "RangeIndex: 21419 entries, 0 to 21418\n",
      "Data columns (total 15 columns):\n",
      "children                    21419 non-null int64\n",
      "days_employed               21419 non-null int64\n",
      "dob_years                   21419 non-null int64\n",
      "education                   21419 non-null object\n",
      "education_id                21419 non-null int64\n",
      "family_status               21419 non-null object\n",
      "family_status_id            21419 non-null int64\n",
      "gender                      21419 non-null object\n",
      "income_type                 21419 non-null object\n",
      "debt                        21419 non-null int64\n",
      "total_income                21419 non-null int64\n",
      "purpose                     21419 non-null object\n",
      "total_income_mean           21419 non-null float64\n",
      "total_income_mean_gender    21419 non-null float64\n",
      "days_employed_median        21419 non-null float64\n",
      "dtypes: float64(3), int64(7), object(5)\n",
      "memory usage: 2.5+ MB\n"
     ]
    }
   ],
   "source": [
    "# замена типа данных в колонке 'days_employed'\n",
    "df['days_employed'] = df['days_employed'].astype('int')\n",
    "\n",
    "# замена типа данных в колонке 'total_income'\n",
    "df['total_income'] = df['total_income'].astype('int')\n",
    "\n",
    "# вывод информации о таблице\n",
    "df.info()"
   ]
  },
  {
   "cell_type": "markdown",
   "metadata": {},
   "source": [
    "### Вывод\n"
   ]
  },
  {
   "cell_type": "markdown",
   "metadata": {},
   "source": [
    "1. Замена типов данных была проведена при помощи метода *astype*.  \n",
    "2. Данный способ был выбран в силу того, что в исходном состоянии данные представлены в формате float64 и применение функции *to_numeric* невозможно.  \n",
    "3. Замена типов данных в колонках 'days_employed' и 'total_income' не привела к возникновению новых пропусков."
   ]
  },
  {
   "cell_type": "markdown",
   "metadata": {},
   "source": [
    "### Обработка дубликатов"
   ]
  },
  {
   "cell_type": "markdown",
   "metadata": {},
   "source": [
    "Информация о текущем состоянии таблицы:"
   ]
  },
  {
   "cell_type": "code",
   "execution_count": 28,
   "metadata": {},
   "outputs": [
    {
     "name": "stdout",
     "output_type": "stream",
     "text": [
      "<class 'pandas.core.frame.DataFrame'>\n",
      "RangeIndex: 21419 entries, 0 to 21418\n",
      "Data columns (total 15 columns):\n",
      "children                    21419 non-null int64\n",
      "days_employed               21419 non-null int64\n",
      "dob_years                   21419 non-null int64\n",
      "education                   21419 non-null object\n",
      "education_id                21419 non-null int64\n",
      "family_status               21419 non-null object\n",
      "family_status_id            21419 non-null int64\n",
      "gender                      21419 non-null object\n",
      "income_type                 21419 non-null object\n",
      "debt                        21419 non-null int64\n",
      "total_income                21419 non-null int64\n",
      "purpose                     21419 non-null object\n",
      "total_income_mean           21419 non-null float64\n",
      "total_income_mean_gender    21419 non-null float64\n",
      "days_employed_median        21419 non-null float64\n",
      "dtypes: float64(3), int64(7), object(5)\n",
      "memory usage: 2.5+ MB\n"
     ]
    }
   ],
   "source": [
    "df.info()"
   ]
  },
  {
   "cell_type": "markdown",
   "metadata": {},
   "source": [
    "Необходимо привести к нижнему регистру все строки, содержащие тип данных object. Это также касается столбца 'gender', в котором, как стало известно выше все обозначения представлены в едином формате (F и M), это необходимо для единой стилистики заполнения данных."
   ]
  },
  {
   "cell_type": "code",
   "execution_count": 29,
   "metadata": {},
   "outputs": [
    {
     "data": {
      "text/html": [
       "<div>\n",
       "<style scoped>\n",
       "    .dataframe tbody tr th:only-of-type {\n",
       "        vertical-align: middle;\n",
       "    }\n",
       "\n",
       "    .dataframe tbody tr th {\n",
       "        vertical-align: top;\n",
       "    }\n",
       "\n",
       "    .dataframe thead th {\n",
       "        text-align: right;\n",
       "    }\n",
       "</style>\n",
       "<table border=\"1\" class=\"dataframe\">\n",
       "  <thead>\n",
       "    <tr style=\"text-align: right;\">\n",
       "      <th></th>\n",
       "      <th>children</th>\n",
       "      <th>days_employed</th>\n",
       "      <th>dob_years</th>\n",
       "      <th>education</th>\n",
       "      <th>education_id</th>\n",
       "      <th>family_status</th>\n",
       "      <th>family_status_id</th>\n",
       "      <th>gender</th>\n",
       "      <th>income_type</th>\n",
       "      <th>debt</th>\n",
       "      <th>total_income</th>\n",
       "      <th>purpose</th>\n",
       "      <th>total_income_mean</th>\n",
       "      <th>total_income_mean_gender</th>\n",
       "      <th>days_employed_median</th>\n",
       "    </tr>\n",
       "  </thead>\n",
       "  <tbody>\n",
       "    <tr>\n",
       "      <td>0</td>\n",
       "      <td>1</td>\n",
       "      <td>8437</td>\n",
       "      <td>42</td>\n",
       "      <td>высшее</td>\n",
       "      <td>0</td>\n",
       "      <td>женат / замужем</td>\n",
       "      <td>0</td>\n",
       "      <td>f</td>\n",
       "      <td>сотрудник</td>\n",
       "      <td>0</td>\n",
       "      <td>253875</td>\n",
       "      <td>покупка жилья</td>\n",
       "      <td>156472.182083</td>\n",
       "      <td>154137.194106</td>\n",
       "      <td>2317.699323</td>\n",
       "    </tr>\n",
       "    <tr>\n",
       "      <td>1</td>\n",
       "      <td>1</td>\n",
       "      <td>4024</td>\n",
       "      <td>36</td>\n",
       "      <td>среднее</td>\n",
       "      <td>1</td>\n",
       "      <td>женат / замужем</td>\n",
       "      <td>0</td>\n",
       "      <td>f</td>\n",
       "      <td>сотрудник</td>\n",
       "      <td>0</td>\n",
       "      <td>112080</td>\n",
       "      <td>приобретение автомобиля</td>\n",
       "      <td>167336.145990</td>\n",
       "      <td>154137.194106</td>\n",
       "      <td>1863.725938</td>\n",
       "    </tr>\n",
       "    <tr>\n",
       "      <td>2</td>\n",
       "      <td>0</td>\n",
       "      <td>5623</td>\n",
       "      <td>33</td>\n",
       "      <td>среднее</td>\n",
       "      <td>1</td>\n",
       "      <td>женат / замужем</td>\n",
       "      <td>0</td>\n",
       "      <td>m</td>\n",
       "      <td>сотрудник</td>\n",
       "      <td>0</td>\n",
       "      <td>145885</td>\n",
       "      <td>покупка жилья</td>\n",
       "      <td>211319.103292</td>\n",
       "      <td>193077.248413</td>\n",
       "      <td>1266.427717</td>\n",
       "    </tr>\n",
       "    <tr>\n",
       "      <td>3</td>\n",
       "      <td>3</td>\n",
       "      <td>4124</td>\n",
       "      <td>32</td>\n",
       "      <td>среднее</td>\n",
       "      <td>1</td>\n",
       "      <td>женат / замужем</td>\n",
       "      <td>0</td>\n",
       "      <td>m</td>\n",
       "      <td>сотрудник</td>\n",
       "      <td>0</td>\n",
       "      <td>267628</td>\n",
       "      <td>дополнительное образование</td>\n",
       "      <td>197448.674184</td>\n",
       "      <td>193077.248413</td>\n",
       "      <td>1298.674163</td>\n",
       "    </tr>\n",
       "    <tr>\n",
       "      <td>4</td>\n",
       "      <td>0</td>\n",
       "      <td>340266</td>\n",
       "      <td>53</td>\n",
       "      <td>среднее</td>\n",
       "      <td>1</td>\n",
       "      <td>гражданский брак</td>\n",
       "      <td>1</td>\n",
       "      <td>f</td>\n",
       "      <td>пенсионер</td>\n",
       "      <td>0</td>\n",
       "      <td>158616</td>\n",
       "      <td>сыграть свадьбу</td>\n",
       "      <td>156204.827930</td>\n",
       "      <td>154137.194106</td>\n",
       "      <td>2575.811475</td>\n",
       "    </tr>\n",
       "    <tr>\n",
       "      <td>...</td>\n",
       "      <td>...</td>\n",
       "      <td>...</td>\n",
       "      <td>...</td>\n",
       "      <td>...</td>\n",
       "      <td>...</td>\n",
       "      <td>...</td>\n",
       "      <td>...</td>\n",
       "      <td>...</td>\n",
       "      <td>...</td>\n",
       "      <td>...</td>\n",
       "      <td>...</td>\n",
       "      <td>...</td>\n",
       "      <td>...</td>\n",
       "      <td>...</td>\n",
       "      <td>...</td>\n",
       "    </tr>\n",
       "    <tr>\n",
       "      <td>21414</td>\n",
       "      <td>1</td>\n",
       "      <td>4529</td>\n",
       "      <td>43</td>\n",
       "      <td>среднее</td>\n",
       "      <td>1</td>\n",
       "      <td>гражданский брак</td>\n",
       "      <td>1</td>\n",
       "      <td>f</td>\n",
       "      <td>компаньон</td>\n",
       "      <td>0</td>\n",
       "      <td>224791</td>\n",
       "      <td>операции с жильем</td>\n",
       "      <td>170624.375174</td>\n",
       "      <td>154137.194106</td>\n",
       "      <td>2137.120412</td>\n",
       "    </tr>\n",
       "    <tr>\n",
       "      <td>21415</td>\n",
       "      <td>0</td>\n",
       "      <td>343937</td>\n",
       "      <td>67</td>\n",
       "      <td>среднее</td>\n",
       "      <td>1</td>\n",
       "      <td>женат / замужем</td>\n",
       "      <td>0</td>\n",
       "      <td>f</td>\n",
       "      <td>пенсионер</td>\n",
       "      <td>0</td>\n",
       "      <td>155999</td>\n",
       "      <td>сделка с автомобилем</td>\n",
       "      <td>126146.856577</td>\n",
       "      <td>154137.194106</td>\n",
       "      <td>1770.530419</td>\n",
       "    </tr>\n",
       "    <tr>\n",
       "      <td>21416</td>\n",
       "      <td>1</td>\n",
       "      <td>2113</td>\n",
       "      <td>38</td>\n",
       "      <td>среднее</td>\n",
       "      <td>1</td>\n",
       "      <td>гражданский брак</td>\n",
       "      <td>1</td>\n",
       "      <td>m</td>\n",
       "      <td>сотрудник</td>\n",
       "      <td>1</td>\n",
       "      <td>89672</td>\n",
       "      <td>недвижимость</td>\n",
       "      <td>198932.976537</td>\n",
       "      <td>193077.248413</td>\n",
       "      <td>1623.108469</td>\n",
       "    </tr>\n",
       "    <tr>\n",
       "      <td>21417</td>\n",
       "      <td>3</td>\n",
       "      <td>3112</td>\n",
       "      <td>38</td>\n",
       "      <td>среднее</td>\n",
       "      <td>1</td>\n",
       "      <td>женат / замужем</td>\n",
       "      <td>0</td>\n",
       "      <td>m</td>\n",
       "      <td>сотрудник</td>\n",
       "      <td>1</td>\n",
       "      <td>244093</td>\n",
       "      <td>на покупку своего автомобиля</td>\n",
       "      <td>198932.976537</td>\n",
       "      <td>193077.248413</td>\n",
       "      <td>1623.108469</td>\n",
       "    </tr>\n",
       "    <tr>\n",
       "      <td>21418</td>\n",
       "      <td>2</td>\n",
       "      <td>1984</td>\n",
       "      <td>40</td>\n",
       "      <td>среднее</td>\n",
       "      <td>1</td>\n",
       "      <td>женат / замужем</td>\n",
       "      <td>0</td>\n",
       "      <td>f</td>\n",
       "      <td>сотрудник</td>\n",
       "      <td>0</td>\n",
       "      <td>82047</td>\n",
       "      <td>на покупку автомобиля</td>\n",
       "      <td>160744.879366</td>\n",
       "      <td>154137.194106</td>\n",
       "      <td>1805.151675</td>\n",
       "    </tr>\n",
       "  </tbody>\n",
       "</table>\n",
       "<p>21419 rows × 15 columns</p>\n",
       "</div>"
      ],
      "text/plain": [
       "       children  days_employed  dob_years education  education_id  \\\n",
       "0             1           8437         42    высшее             0   \n",
       "1             1           4024         36   среднее             1   \n",
       "2             0           5623         33   среднее             1   \n",
       "3             3           4124         32   среднее             1   \n",
       "4             0         340266         53   среднее             1   \n",
       "...         ...            ...        ...       ...           ...   \n",
       "21414         1           4529         43   среднее             1   \n",
       "21415         0         343937         67   среднее             1   \n",
       "21416         1           2113         38   среднее             1   \n",
       "21417         3           3112         38   среднее             1   \n",
       "21418         2           1984         40   среднее             1   \n",
       "\n",
       "          family_status  family_status_id gender income_type  debt  \\\n",
       "0       женат / замужем                 0      f   сотрудник     0   \n",
       "1       женат / замужем                 0      f   сотрудник     0   \n",
       "2       женат / замужем                 0      m   сотрудник     0   \n",
       "3       женат / замужем                 0      m   сотрудник     0   \n",
       "4      гражданский брак                 1      f   пенсионер     0   \n",
       "...                 ...               ...    ...         ...   ...   \n",
       "21414  гражданский брак                 1      f   компаньон     0   \n",
       "21415   женат / замужем                 0      f   пенсионер     0   \n",
       "21416  гражданский брак                 1      m   сотрудник     1   \n",
       "21417   женат / замужем                 0      m   сотрудник     1   \n",
       "21418   женат / замужем                 0      f   сотрудник     0   \n",
       "\n",
       "       total_income                       purpose  total_income_mean  \\\n",
       "0            253875                 покупка жилья      156472.182083   \n",
       "1            112080       приобретение автомобиля      167336.145990   \n",
       "2            145885                 покупка жилья      211319.103292   \n",
       "3            267628    дополнительное образование      197448.674184   \n",
       "4            158616               сыграть свадьбу      156204.827930   \n",
       "...             ...                           ...                ...   \n",
       "21414        224791             операции с жильем      170624.375174   \n",
       "21415        155999          сделка с автомобилем      126146.856577   \n",
       "21416         89672                  недвижимость      198932.976537   \n",
       "21417        244093  на покупку своего автомобиля      198932.976537   \n",
       "21418         82047         на покупку автомобиля      160744.879366   \n",
       "\n",
       "       total_income_mean_gender  days_employed_median  \n",
       "0                 154137.194106           2317.699323  \n",
       "1                 154137.194106           1863.725938  \n",
       "2                 193077.248413           1266.427717  \n",
       "3                 193077.248413           1298.674163  \n",
       "4                 154137.194106           2575.811475  \n",
       "...                         ...                   ...  \n",
       "21414             154137.194106           2137.120412  \n",
       "21415             154137.194106           1770.530419  \n",
       "21416             193077.248413           1623.108469  \n",
       "21417             193077.248413           1623.108469  \n",
       "21418             154137.194106           1805.151675  \n",
       "\n",
       "[21419 rows x 15 columns]"
      ]
     },
     "execution_count": 29,
     "metadata": {},
     "output_type": "execute_result"
    }
   ],
   "source": [
    "# приведение к нижнему регистру содержания всех колонок, которые будут использованы при дальнейшем анализе\n",
    "df['education'] = df['education'].str.lower()\n",
    "df['family_status'] = df['family_status'].str.lower()\n",
    "df['gender'] = df['gender'].str.lower()\n",
    "df['income_type'] = df['income_type'].str.lower()\n",
    "df['purpose'] = df['purpose'].str.lower()\n",
    "\n",
    "# вывод первых 5 и последних 5 строк датасета\n",
    "df"
   ]
  },
  {
   "cell_type": "markdown",
   "metadata": {},
   "source": [
    "Поиск полных дупликатов:"
   ]
  },
  {
   "cell_type": "code",
   "execution_count": 30,
   "metadata": {},
   "outputs": [
    {
     "name": "stdout",
     "output_type": "stream",
     "text": [
      "Количество полных дупликатов до очистки: 71\n",
      "Количество полных дупликатов после очистки: 0\n"
     ]
    }
   ],
   "source": [
    "# подсчет количества полных дупликатов до очистки\n",
    "complete_duplicates = df.duplicated().sum()\n",
    "print(f'Количество полных дупликатов до очистки: {complete_duplicates}')\n",
    "\n",
    "# удаление дупликатов и сброс индексов\n",
    "df = df.drop_duplicates().reset_index(drop='True')\n",
    "complete_duplicates = df.duplicated().sum()\n",
    "print(f'Количество полных дупликатов после очистки: {complete_duplicates}')"
   ]
  },
  {
   "cell_type": "markdown",
   "metadata": {},
   "source": [
    "Замаскированные дупликаты искались среди значений в колонках, не требующих стемминга: маловероятно, что совпадение всех данных подобного типа о заемщике связано с реальной ситуацией (один человек берет несколько кредитов в один день в одном и том же банке).  \n",
    "Удостоверимся в пригодности колонок 'education' и 'family_status_id' для фильтрации путем подсчета количества их различных значений."
   ]
  },
  {
   "cell_type": "code",
   "execution_count": 31,
   "metadata": {},
   "outputs": [
    {
     "data": {
      "text/plain": [
       "среднее                15105\n",
       "высшее                  5214\n",
       "неоконченное высшее      741\n",
       "начальное                282\n",
       "ученая степень             6\n",
       "Name: education, dtype: int64"
      ]
     },
     "execution_count": 31,
     "metadata": {},
     "output_type": "execute_result"
    }
   ],
   "source": [
    "df['education'].value_counts()"
   ]
  },
  {
   "cell_type": "code",
   "execution_count": 32,
   "metadata": {},
   "outputs": [
    {
     "data": {
      "text/plain": [
       "0    12287\n",
       "1     4128\n",
       "4     2794\n",
       "3     1185\n",
       "2      954\n",
       "Name: family_status_id, dtype: int64"
      ]
     },
     "execution_count": 32,
     "metadata": {},
     "output_type": "execute_result"
    }
   ],
   "source": [
    "df['family_status_id'].value_counts()"
   ]
  },
  {
   "cell_type": "markdown",
   "metadata": {},
   "source": [
    "В колонке 'education' отсутствуют одинаковые по смыслу значения, записанные разными способами: колонка пригодна для поиска дупликатов.  \n",
    "ID семейного положение также может быть применено в поиске дупликатов, по той же причине."
   ]
  },
  {
   "cell_type": "code",
   "execution_count": 33,
   "metadata": {},
   "outputs": [
    {
     "name": "stdout",
     "output_type": "stream",
     "text": [
      "Количество замаскированных дупликатов: 1019\n"
     ]
    }
   ],
   "source": [
    "partial_duplicates = df.duplicated(subset=['children', 'days_employed', 'dob_years', 'family_status_id',\n",
    "                                           'debt', 'total_income', 'gender', 'education']).sum()\n",
    "print(f'Количество замаскированных дупликатов: {partial_duplicates}')"
   ]
  },
  {
   "cell_type": "markdown",
   "metadata": {},
   "source": [
    "Скрытыми дупликатами выше признаны данные о заемщиках, которые совпадают по количеству детей, стажу, возрасту, семейному положению, факту наличия задолженности, ежемесячному доходу, полу и уровню образования. Существование двух разных заемщиков с настолько схожим набором характеристик крайне маловероятно.  \n",
    "Скрытые дупликаты будут удалены:"
   ]
  },
  {
   "cell_type": "code",
   "execution_count": 34,
   "metadata": {},
   "outputs": [
    {
     "name": "stdout",
     "output_type": "stream",
     "text": [
      "<class 'pandas.core.frame.DataFrame'>\n",
      "RangeIndex: 20329 entries, 0 to 20328\n",
      "Data columns (total 15 columns):\n",
      "children                    20329 non-null int64\n",
      "days_employed               20329 non-null int64\n",
      "dob_years                   20329 non-null int64\n",
      "education                   20329 non-null object\n",
      "education_id                20329 non-null int64\n",
      "family_status               20329 non-null object\n",
      "family_status_id            20329 non-null int64\n",
      "gender                      20329 non-null object\n",
      "income_type                 20329 non-null object\n",
      "debt                        20329 non-null int64\n",
      "total_income                20329 non-null int64\n",
      "purpose                     20329 non-null object\n",
      "total_income_mean           20329 non-null float64\n",
      "total_income_mean_gender    20329 non-null float64\n",
      "days_employed_median        20329 non-null float64\n",
      "dtypes: float64(3), int64(7), object(5)\n",
      "memory usage: 2.3+ MB\n"
     ]
    }
   ],
   "source": [
    "df = df.drop_duplicates(subset=['children', 'days_employed', 'dob_years', 'family_status_id',\n",
    "                                'debt', 'total_income', 'gender', 'education']).reset_index(drop='True')\n",
    "df.info()"
   ]
  },
  {
   "cell_type": "code",
   "execution_count": 35,
   "metadata": {},
   "outputs": [
    {
     "name": "stdout",
     "output_type": "stream",
     "text": [
      "Процент удаленных дупликатов в очищенной от пропусков таблице: 4.8%\n",
      "Общее сокращение объема данных в результате их подготовки: 5.6%\n"
     ]
    }
   ],
   "source": [
    "# процент дупликатов в очищенном от пропусков датасете\n",
    "duplicates_percent = (complete_duplicates + partial_duplicates) / 21419\n",
    "print('Процент удаленных дупликатов в очищенной от пропусков таблице: {:.1%}'.format(duplicates_percent))\n",
    "\n",
    "# общее сокращение объема данных в результате их подготовки\n",
    "volume_reduce_percent = (21525 - 20329) / 21525\n",
    "print('Общее сокращение объема данных в результате их подготовки: {:.1%}'.format(volume_reduce_percent))"
   ]
  },
  {
   "cell_type": "markdown",
   "metadata": {},
   "source": [
    "### Вывод"
   ]
  },
  {
   "cell_type": "markdown",
   "metadata": {},
   "source": [
    "Была проведена очистка данных от дупликатов:\n",
    "1. Количество полных дупликатов составило 71\n",
    "2. Банки, как правило не выдают одному и тому же человеку несколько кредитов в день. Потому за скрытые дупликаты принимались данные о заёмщиках с одновременно одинаковыми стажем, количеством детей, возрастом, семейным положением, фактом наличия задолженности, ежемесячным доходом, полом и уровнем образования.  \n",
    "  \n",
    "Причинами возникновения полных дупликатов могли послужить ошибки в алгоритмах выгрузки данных из базы или, если данные были зашифрованы, ошибки в алгоритмах дешифровки.  \n",
    "Неполные дубликаты могли возникнуть по причине использования различных формулировок в колонке 'purpose' при переносе данных с печатных носителей на электронные в ручном режиме.  \n",
    "  \n",
    "___Итоговое сокращение объема данных составило 5.6%___"
   ]
  },
  {
   "cell_type": "markdown",
   "metadata": {},
   "source": [
    "### Лемматизация"
   ]
  },
  {
   "cell_type": "markdown",
   "metadata": {},
   "source": [
    "Наиболее часто упоминаемые слова в колонке 'purpose' определены по следующему алгоритму:"
   ]
  },
  {
   "cell_type": "code",
   "execution_count": 36,
   "metadata": {},
   "outputs": [
    {
     "data": {
      "text/plain": [
       "[(' ', 96),\n",
       " ('покупка', 10),\n",
       " ('недвижимость', 10),\n",
       " ('автомобиль', 9),\n",
       " ('образование', 9),\n",
       " ('жилье', 7),\n",
       " ('с', 5),\n",
       " ('операция', 4),\n",
       " ('на', 4),\n",
       " ('свой', 4),\n",
       " ('свадьба', 3),\n",
       " ('строительство', 3),\n",
       " ('получение', 3),\n",
       " ('высокий', 3),\n",
       " ('дополнительный', 2),\n",
       " ('для', 2),\n",
       " ('коммерческий', 2),\n",
       " ('жилой', 2),\n",
       " ('подержать', 2),\n",
       " ('заниматься', 2),\n",
       " ('сделка', 2),\n",
       " ('приобретение', 1),\n",
       " ('сыграть', 1),\n",
       " ('проведение', 1),\n",
       " ('семья', 1),\n",
       " ('собственный', 1),\n",
       " ('со', 1),\n",
       " ('профильный', 1),\n",
       " ('сдача', 1),\n",
       " ('ремонт', 1),\n",
       " ('\\n', 1)]"
      ]
     },
     "execution_count": 36,
     "metadata": {},
     "output_type": "execute_result"
    }
   ],
   "source": [
    "m = Mystem()\n",
    "\n",
    "# получен массив уникальных значений в колонке 'purpose'\n",
    "purpose_content = df['purpose'].unique()\n",
    "\n",
    "# уникальные значения из 'purpose' собраны в список\n",
    "purpose_content_str = ' '.join(df['purpose'].unique())\n",
    "\n",
    "# список лемматизирован\n",
    "purpose_content_str_lemmas = m.lemmatize(purpose_content_str)\n",
    "\n",
    "# слова из списка выведены в порядке убывания\n",
    "Counter(purpose_content_str_lemmas).most_common(100)"
   ]
  },
  {
   "cell_type": "markdown",
   "metadata": {},
   "source": [
    "Анализ статистики упоминания слов в колонке 'purpose' явно указывает на следующие цели получения кредита: \n",
    "1. Операции с недвижимостью\n",
    "2. Операции с транспортом\n",
    "3. Образование\n",
    "4. Свадьба  \n",
    "  \n",
    "Дальнейшая лемматизация будет произведена по следующему итеративному алгоритму:\n",
    "1. Все строки, содержащие слова 'жилье', 'недвижимость', 'автомобиль', 'образование' будут отнесены к соответсвующей категории из списка выше\n",
    "2. Данным, которые не попадут ни в одну из категорий, будет присвоено значение 'неизвестная цель'\n",
    "3. Каждый из случаев 'неизвестной цели' будет изучен и отнесен к одной из уже существующих категорий, либо будет создана новая категория"
   ]
  },
  {
   "cell_type": "code",
   "execution_count": 37,
   "metadata": {},
   "outputs": [
    {
     "name": "stdout",
     "output_type": "stream",
     "text": [
      "Количество строк с неизвестной целью: 0\n"
     ]
    }
   ],
   "source": [
    "def purpose_lemmas(df):\n",
    "    \"\"\"\n",
    "    Функция присваивает каждой строке таблицы группу целей взятия кредита, основываясь на результатах лемматизации, проведенной\n",
    "    ранее. Все записи распределяются на 4 группы, указаные выше. \n",
    "    \n",
    "    :df - исходный датасет\n",
    "    :return - исходный датасет с колонкой 'purpose_type', содержащей информацию о группе целей\n",
    "    \"\"\"\n",
    "    m = Mystem()\n",
    "\n",
    "    def make_lemma_column(lemmas):\n",
    "        \"\"\"\n",
    "        Функция относит строку к одной из выделенных групп целей\n",
    "        \n",
    "        :lemmas - лемматизированное содержание колонки 'purpose'(ячейка)\n",
    "        :return - строка с названием группы\n",
    "        \"\"\"\n",
    "        if 'жилье' in lemmas:\n",
    "            return 'операции с недвижимостью'\n",
    "        elif 'недвижимость' in lemmas:\n",
    "            return 'операции с недвижимостью'\n",
    "        elif 'образование' in lemmas:\n",
    "            return 'получение образования'\n",
    "        elif 'свадьба' in lemmas:\n",
    "            return 'организация свадьбы'\n",
    "        elif 'автомобиль' in lemmas:\n",
    "            return 'операции с транспортом'\n",
    "        else:\n",
    "            return 'неизвестная цель'\n",
    "        \n",
    "    df['purpose_lemmas'] = df['purpose'].apply(m.lemmatize)\n",
    "    df['purpose_type'] = df['purpose_lemmas'].apply(make_lemma_column)\n",
    "    return df\n",
    "\n",
    "\n",
    "df = purpose_lemmas(df)\n",
    "unknown_purpose_type = df.loc[(df.loc[:, 'purpose_type'] == 'неизвестная цель')]['debt'].count()\n",
    "print(f'Количество строк с неизвестной целью: {unknown_purpose_type}')"
   ]
  },
  {
   "cell_type": "markdown",
   "metadata": {},
   "source": [
    "### Вывод"
   ]
  },
  {
   "cell_type": "markdown",
   "metadata": {},
   "source": [
    "В результате применения указанного выше алгоритма данные были разбиты по целям займов в полном объеме с первой итерации, что говорит о том, что список целей, сформулированный на основе частоты упоминаемости слов, оказался достаточным. "
   ]
  },
  {
   "cell_type": "markdown",
   "metadata": {},
   "source": [
    "### Категоризация данных"
   ]
  },
  {
   "cell_type": "code",
   "execution_count": 38,
   "metadata": {},
   "outputs": [],
   "source": [
    "def children_group(df):\n",
    "    \"\"\"\n",
    "    Функция разбивает данные на категории по факту наличия детей\n",
    "    :df - исходный датасет\n",
    "    :return - df_grouped_children - распределение количества должников среди заемщиков с детьми и без них\n",
    "            - df_grouped_children - распределение количества должников среди заемщиков с разным количеством детей\n",
    "    \"\"\"\n",
    "    \n",
    "    def make_got_children_column(row):\n",
    "        \"\"\"\n",
    "        Функция одной строки: определяет, есть ли у заемщика дети\n",
    "        \n",
    "        row: строка исходной таблицы\n",
    "        return: строка, содержащая информацию о наличии/отсутствии детей\n",
    "        \"\"\"\n",
    "        if row['children'] != 0:\n",
    "            return 'got kids'\n",
    "        else:\n",
    "            return 'no kids'\n",
    "        \n",
    "    df['got_children'] = df.apply(make_got_children_column, axis=1)\n",
    "    df_grouped_children = df.groupby(['got_children'])['debt', 'gender'].agg({'debt': 'sum', 'gender': 'count'}).rename(columns={'debt': 'got_debt', 'gender': 'total_clients'})\n",
    "    df_grouped_children['debt_percent'] = df_grouped_children['got_debt'] * 100 / df_grouped_children['total_clients']\n",
    "    df_grouped_children['debt_percent'] = df_grouped_children['debt_percent']\n",
    "    \n",
    "    df_grouped_children2 = df.groupby(['children'])['debt', 'gender'].agg({'debt': 'sum', 'gender': 'count'}).rename(columns={'debt': 'got_debt', 'gender': 'total_clients'})\n",
    "    df_grouped_children2['debt_percent'] = df_grouped_children2['got_debt'] * 100 / df_grouped_children2['total_clients']\n",
    "    df_grouped_children2['debt_percent'] = df_grouped_children2['debt_percent']\n",
    "    return df_grouped_children, df_grouped_children2[1:].sort_values(by='debt_percent', ascending=False)\n",
    "\n",
    "\n",
    "df_grouped_children, df_grouped_children2 = children_group(df)"
   ]
  },
  {
   "cell_type": "code",
   "execution_count": 39,
   "metadata": {},
   "outputs": [],
   "source": [
    "def family_group(df):\n",
    "    \"\"\"\n",
    "    Функция категоризирует данные по семейному положению\n",
    "    :df - исходный датасет\n",
    "    :return - исходный датасет, категоризированный по семейному положению и отсортированный по мере возрастания количества\n",
    "              должников в группе\n",
    "    \"\"\"\n",
    "    df_grouped_family = df.groupby('family_status')['debt', 'gender'].agg({'debt': 'sum', 'gender': 'count'}).rename(columns={'gender': 'total_clients'})\n",
    "    df_grouped_family['debt_percent'] = df_grouped_family.loc[:, 'debt'] * 100 / df_grouped_family.loc[:, 'total_clients']\n",
    "    return df_grouped_family.sort_values(by='debt_percent', ascending=False)\n",
    "\n",
    "df_grouped_family = family_group(df)"
   ]
  },
  {
   "cell_type": "code",
   "execution_count": 40,
   "metadata": {},
   "outputs": [],
   "source": [
    "def income_group(df):\n",
    "    \"\"\"\n",
    "    Функция распределяет заемщиков на 11 групп в зависимости от уровня их дохода\n",
    "    df - исходный датасет\n",
    "    return - сводная таблица на основе исходного датасета, данные распределены по уровню дохода заемщиков, для каждой группы\n",
    "             вычислен процент должников\n",
    "    \"\"\"\n",
    "    \n",
    "    def total_income_group(row):\n",
    "        \"\"\"\n",
    "        Функция одной строки: присваивает заемщику группу дохода на основе значения в колонке 'total_income'\n",
    "        row - строка исходного датасета\n",
    "        return - группа дохода данного заемщика\n",
    "        \"\"\"\n",
    "        try:\n",
    "            if row['total_income'] <= 0:\n",
    "                return 'неположительный доход'\n",
    "            elif 0 < row['total_income'] < 50000:\n",
    "                return 'менее 50 тыс.'\n",
    "            elif 50000 <= row['total_income'] < 100000:\n",
    "                return 'от 50 до 100 тыс.'\n",
    "            elif 100000 <= row['total_income'] < 150000:\n",
    "                return 'от 100 до 150 тыс.'\n",
    "            elif 150000 <= row['total_income'] < 200000:\n",
    "                return 'от 150 до 200 тыс.'\n",
    "            elif 200000 <= row['total_income'] < 250000:\n",
    "                return 'от 200 до 250 тыс.'\n",
    "            elif 250000 <= row['total_income'] < 300000:\n",
    "                return 'от 250 до 300 тыс.'\n",
    "            elif 300000 <= row['total_income'] < 350000:\n",
    "                return 'от 300 до 350 тыс.'\n",
    "            elif 350000 <= row['total_income'] < 400000:\n",
    "                return 'от 350 до 400 тыс.'\n",
    "            elif 400000 <= row['total_income'] < 450000:\n",
    "                return 'от 400 до 450 тыс.'\n",
    "            elif 450000 <= row['total_income'] < 500000:\n",
    "                return 'от 450 до 500 тыс.'\n",
    "            elif row['total_income'] > 500000:\n",
    "                return 'более 500 тыс.'\n",
    "        except:\n",
    "            return 'неучтенный уровень дохода'\n",
    "        \n",
    "    df['total_income_group'] = df.apply(total_income_group, axis=1)\n",
    "    df_income_grouped_income = df.groupby('total_income_group')['debt', 'gender'].agg({'debt': 'sum', 'gender': 'count'}).rename(columns={'gender': 'total_clients'})\n",
    "    df_income_grouped_income['debt_percent'] = df_income_grouped_income['debt'] * 100 / df_income_grouped_income['total_clients']\n",
    "    return df_income_grouped_income.sort_values(by='debt_percent', ascending=False)\n",
    "\n",
    "\n",
    "df_grouped_income = income_group(df)"
   ]
  },
  {
   "cell_type": "code",
   "execution_count": 41,
   "metadata": {},
   "outputs": [],
   "source": [
    "def purpose_group(df):\n",
    "    \"\"\"\n",
    "    Функция распределяет заемщиков по типам целей взятия кредита на 4 выделенных выше группы\n",
    "    :df - исходный датасет\n",
    "    :return - сводная таблица по типу цели с указанием процента должников внутри каждой группы\n",
    "    \"\"\"\n",
    "    df_grouped_purpose = df.groupby('purpose_type')['debt', 'gender'].agg({'debt': 'sum', 'gender': 'count'}).rename(columns={'gender': 'total_clients'})\n",
    "    df_grouped_purpose['debt_percent'] = df_grouped_purpose['debt'] * 100 / df_grouped_purpose['total_clients']\n",
    "    return df_grouped_purpose.sort_values(by='debt_percent', ascending=False)\n",
    "\n",
    "\n",
    "df_grouped_purpose = purpose_group(df)"
   ]
  },
  {
   "cell_type": "markdown",
   "metadata": {},
   "source": [
    "### Вывод"
   ]
  },
  {
   "cell_type": "markdown",
   "metadata": {},
   "source": [
    "Данные были категоризированы в строгом соответствии с поставленными вопросами.  \n",
    "Во всех случаях данные:  \n",
    "1. Разбивались на группы методом .groupby()\n",
    "2. В каждой группе подсчитывалось количество заемщиков, имеющих задолженности по кредиту\n",
    "3. Расчитывался процент должников относительно общего числа заемщиков в группе\n",
    "4. Итоговая таблица сортировалась в порядке убывания по колонке, содержащей данные о проценте должников в группе"
   ]
  },
  {
   "cell_type": "markdown",
   "metadata": {},
   "source": [
    "### Оценка влияния свойств заемщиков на платежеспособность\n",
    "Во всех сводных таблицах чем выше позиция, тем больше должников (меньше надежность группы)"
   ]
  },
  {
   "cell_type": "markdown",
   "metadata": {},
   "source": [
    "- Есть ли зависимость между наличием детей и возвратом кредита в срок?  \n",
    "  1. Сводная таблица по факту наличия детей и наличию задолженности \n",
    "    - got_children - факт наличия детей\n",
    "    - got_debt - число заемщиков, имеющих задолженности\n",
    "    - total_clients - общее число заемщиков в группе\n",
    "    - debt_percent - процент заемщиков-должников в группе"
   ]
  },
  {
   "cell_type": "code",
   "execution_count": 42,
   "metadata": {},
   "outputs": [
    {
     "data": {
      "text/html": [
       "<div>\n",
       "<style scoped>\n",
       "    .dataframe tbody tr th:only-of-type {\n",
       "        vertical-align: middle;\n",
       "    }\n",
       "\n",
       "    .dataframe tbody tr th {\n",
       "        vertical-align: top;\n",
       "    }\n",
       "\n",
       "    .dataframe thead th {\n",
       "        text-align: right;\n",
       "    }\n",
       "</style>\n",
       "<table border=\"1\" class=\"dataframe\">\n",
       "  <thead>\n",
       "    <tr style=\"text-align: right;\">\n",
       "      <th></th>\n",
       "      <th>got_debt</th>\n",
       "      <th>total_clients</th>\n",
       "      <th>debt_percent</th>\n",
       "    </tr>\n",
       "    <tr>\n",
       "      <th>got_children</th>\n",
       "      <th></th>\n",
       "      <th></th>\n",
       "      <th></th>\n",
       "    </tr>\n",
       "  </thead>\n",
       "  <tbody>\n",
       "    <tr>\n",
       "      <td>got kids</td>\n",
       "      <td>672</td>\n",
       "      <td>7064</td>\n",
       "      <td>9.513024</td>\n",
       "    </tr>\n",
       "    <tr>\n",
       "      <td>no kids</td>\n",
       "      <td>1045</td>\n",
       "      <td>13265</td>\n",
       "      <td>7.877874</td>\n",
       "    </tr>\n",
       "  </tbody>\n",
       "</table>\n",
       "</div>"
      ],
      "text/plain": [
       "              got_debt  total_clients  debt_percent\n",
       "got_children                                       \n",
       "got kids           672           7064      9.513024\n",
       "no kids           1045          13265      7.877874"
      ]
     },
     "execution_count": 42,
     "metadata": {},
     "output_type": "execute_result"
    }
   ],
   "source": [
    "df_grouped_children"
   ]
  },
  {
   "cell_type": "markdown",
   "metadata": {},
   "source": [
    "Согласно данным в этой сводной таблице, заемщики, у которых есть дети, имеют задолженности на 1.63% чаще.  \n",
    "_Заемщик с детьми платит по кредиту хуже_"
   ]
  },
  {
   "cell_type": "markdown",
   "metadata": {},
   "source": [
    "Проанализируем, как количество детей влияет на наличие задолженностей:  "
   ]
  },
  {
   "cell_type": "code",
   "execution_count": 43,
   "metadata": {},
   "outputs": [
    {
     "data": {
      "text/html": [
       "<div>\n",
       "<style scoped>\n",
       "    .dataframe tbody tr th:only-of-type {\n",
       "        vertical-align: middle;\n",
       "    }\n",
       "\n",
       "    .dataframe tbody tr th {\n",
       "        vertical-align: top;\n",
       "    }\n",
       "\n",
       "    .dataframe thead th {\n",
       "        text-align: right;\n",
       "    }\n",
       "</style>\n",
       "<table border=\"1\" class=\"dataframe\">\n",
       "  <thead>\n",
       "    <tr style=\"text-align: right;\">\n",
       "      <th></th>\n",
       "      <th>got_debt</th>\n",
       "      <th>total_clients</th>\n",
       "      <th>debt_percent</th>\n",
       "    </tr>\n",
       "    <tr>\n",
       "      <th>children</th>\n",
       "      <th></th>\n",
       "      <th></th>\n",
       "      <th></th>\n",
       "    </tr>\n",
       "  </thead>\n",
       "  <tbody>\n",
       "    <tr>\n",
       "      <td>4</td>\n",
       "      <td>4</td>\n",
       "      <td>40</td>\n",
       "      <td>10.000000</td>\n",
       "    </tr>\n",
       "    <tr>\n",
       "      <td>2</td>\n",
       "      <td>201</td>\n",
       "      <td>2043</td>\n",
       "      <td>9.838473</td>\n",
       "    </tr>\n",
       "    <tr>\n",
       "      <td>1</td>\n",
       "      <td>440</td>\n",
       "      <td>4648</td>\n",
       "      <td>9.466437</td>\n",
       "    </tr>\n",
       "    <tr>\n",
       "      <td>3</td>\n",
       "      <td>27</td>\n",
       "      <td>324</td>\n",
       "      <td>8.333333</td>\n",
       "    </tr>\n",
       "    <tr>\n",
       "      <td>5</td>\n",
       "      <td>0</td>\n",
       "      <td>9</td>\n",
       "      <td>0.000000</td>\n",
       "    </tr>\n",
       "  </tbody>\n",
       "</table>\n",
       "</div>"
      ],
      "text/plain": [
       "          got_debt  total_clients  debt_percent\n",
       "children                                       \n",
       "4                4             40     10.000000\n",
       "2              201           2043      9.838473\n",
       "1              440           4648      9.466437\n",
       "3               27            324      8.333333\n",
       "5                0              9      0.000000"
      ]
     },
     "execution_count": 43,
     "metadata": {},
     "output_type": "execute_result"
    }
   ],
   "source": [
    "df_grouped_children2"
   ]
  },
  {
   "cell_type": "markdown",
   "metadata": {},
   "source": [
    "Если считать выборки внутри групп репрезентативными (даже выборки для заемщиков с 4 и 5 детьми) и игнорировать перекрестное влияние различных факторов на факт наличия задолженности, можно сделать следующие выводы:  \n",
    "1. _Хуже всех по долгам платят заемщики с 4 детьми (10% случаев)_  \n",
    "2. _Лучше всех по долгам платят заемщики с 5 детьми_\n",
    "3. _Разница по надежности заемщиков с 2 детьми и заемщиков с 1 ребенком почти отсутствует (9.84% против 9.47%)_"
   ]
  },
  {
   "cell_type": "markdown",
   "metadata": {},
   "source": [
    "### Вывод"
   ]
  },
  {
   "cell_type": "markdown",
   "metadata": {},
   "source": [
    "1. Анализ данной выборки показал, что __заемщики с детьми платят__ по кредитам __хуже__.  \n",
    "2. С учетом приведенных выше допущений, среди заемщиков с детьми самыми надежными являются заемщики с 5 детьми, самыми ненадежными - заемщики с 4 детьми. "
   ]
  },
  {
   "cell_type": "markdown",
   "metadata": {},
   "source": [
    "- Есть ли зависимость между семейным положением и возвратом кредита в срок?  \n",
    "Сводная таблица по семейному положению и наличию задолженностей: \n",
    "  - family_status - семейное положение\n",
    "  - debt - количество заемщиков-должников в группе\n",
    "  - total_clients - общее количество заемщиков в группе\n",
    "  - debt_percent - процент клиентов с задолженностями в группе"
   ]
  },
  {
   "cell_type": "code",
   "execution_count": 44,
   "metadata": {},
   "outputs": [
    {
     "data": {
      "text/html": [
       "<div>\n",
       "<style scoped>\n",
       "    .dataframe tbody tr th:only-of-type {\n",
       "        vertical-align: middle;\n",
       "    }\n",
       "\n",
       "    .dataframe tbody tr th {\n",
       "        vertical-align: top;\n",
       "    }\n",
       "\n",
       "    .dataframe thead th {\n",
       "        text-align: right;\n",
       "    }\n",
       "</style>\n",
       "<table border=\"1\" class=\"dataframe\">\n",
       "  <thead>\n",
       "    <tr style=\"text-align: right;\">\n",
       "      <th></th>\n",
       "      <th>debt</th>\n",
       "      <th>total_clients</th>\n",
       "      <th>debt_percent</th>\n",
       "    </tr>\n",
       "    <tr>\n",
       "      <th>family_status</th>\n",
       "      <th></th>\n",
       "      <th></th>\n",
       "      <th></th>\n",
       "    </tr>\n",
       "  </thead>\n",
       "  <tbody>\n",
       "    <tr>\n",
       "      <td>не женат / не замужем</td>\n",
       "      <td>272</td>\n",
       "      <td>2706</td>\n",
       "      <td>10.051737</td>\n",
       "    </tr>\n",
       "    <tr>\n",
       "      <td>гражданский брак</td>\n",
       "      <td>383</td>\n",
       "      <td>3983</td>\n",
       "      <td>9.615867</td>\n",
       "    </tr>\n",
       "    <tr>\n",
       "      <td>женат / замужем</td>\n",
       "      <td>915</td>\n",
       "      <td>11568</td>\n",
       "      <td>7.909751</td>\n",
       "    </tr>\n",
       "    <tr>\n",
       "      <td>в разводе</td>\n",
       "      <td>85</td>\n",
       "      <td>1162</td>\n",
       "      <td>7.314974</td>\n",
       "    </tr>\n",
       "    <tr>\n",
       "      <td>вдовец / вдова</td>\n",
       "      <td>62</td>\n",
       "      <td>910</td>\n",
       "      <td>6.813187</td>\n",
       "    </tr>\n",
       "  </tbody>\n",
       "</table>\n",
       "</div>"
      ],
      "text/plain": [
       "                       debt  total_clients  debt_percent\n",
       "family_status                                           \n",
       "не женат / не замужем   272           2706     10.051737\n",
       "гражданский брак        383           3983      9.615867\n",
       "женат / замужем         915          11568      7.909751\n",
       "в разводе                85           1162      7.314974\n",
       "вдовец / вдова           62            910      6.813187"
      ]
     },
     "execution_count": 44,
     "metadata": {},
     "output_type": "execute_result"
    }
   ],
   "source": [
    "df_grouped_family"
   ]
  },
  {
   "cell_type": "markdown",
   "metadata": {},
   "source": [
    "### Вывод"
   ]
  },
  {
   "cell_type": "markdown",
   "metadata": {},
   "source": [
    "Согласно полученным результатам: \n",
    "1. Хуже всего по долгам платят заемщики, не построившие семьи\n",
    "2. Лучше всего по долгам платят заемщики, потерявшие своих супругов (вдовцы и вдовы)\n",
    "3. Заемщики, состоящие в гражданском браке, являются заметно менее надежными, нежели заемщики, чей брак оформлен официально (7.91% против 9.62%, разница - 1.71%)"
   ]
  },
  {
   "cell_type": "markdown",
   "metadata": {},
   "source": [
    "- Есть ли зависимость между уровнем дохода и возвратом кредита в срок?  \n",
    "  Сводная таблица по уровню дохода и факту наличия задолженности\n",
    "  - total_income_group - группа дохода (11 групп от 0 до 500+ тыс. с шагом в 50 тыс.)\n",
    "  - debt - количество заемщиков-должников в группе\n",
    "  - total_clients - общее количество заемщиков в группе\n",
    "  - debt_percent - процент клиентов с задолженностями в группе"
   ]
  },
  {
   "cell_type": "code",
   "execution_count": 45,
   "metadata": {},
   "outputs": [
    {
     "data": {
      "text/html": [
       "<div>\n",
       "<style scoped>\n",
       "    .dataframe tbody tr th:only-of-type {\n",
       "        vertical-align: middle;\n",
       "    }\n",
       "\n",
       "    .dataframe tbody tr th {\n",
       "        vertical-align: top;\n",
       "    }\n",
       "\n",
       "    .dataframe thead th {\n",
       "        text-align: right;\n",
       "    }\n",
       "</style>\n",
       "<table border=\"1\" class=\"dataframe\">\n",
       "  <thead>\n",
       "    <tr style=\"text-align: right;\">\n",
       "      <th></th>\n",
       "      <th>debt</th>\n",
       "      <th>total_clients</th>\n",
       "      <th>debt_percent</th>\n",
       "    </tr>\n",
       "    <tr>\n",
       "      <th>total_income_group</th>\n",
       "      <th></th>\n",
       "      <th></th>\n",
       "      <th></th>\n",
       "    </tr>\n",
       "  </thead>\n",
       "  <tbody>\n",
       "    <tr>\n",
       "      <td>от 150 до 200 тыс.</td>\n",
       "      <td>466</td>\n",
       "      <td>4761</td>\n",
       "      <td>9.787860</td>\n",
       "    </tr>\n",
       "    <tr>\n",
       "      <td>от 100 до 150 тыс.</td>\n",
       "      <td>518</td>\n",
       "      <td>5934</td>\n",
       "      <td>8.729356</td>\n",
       "    </tr>\n",
       "    <tr>\n",
       "      <td>от 300 до 350 тыс.</td>\n",
       "      <td>51</td>\n",
       "      <td>621</td>\n",
       "      <td>8.212560</td>\n",
       "    </tr>\n",
       "    <tr>\n",
       "      <td>от 50 до 100 тыс.</td>\n",
       "      <td>330</td>\n",
       "      <td>4070</td>\n",
       "      <td>8.108108</td>\n",
       "    </tr>\n",
       "    <tr>\n",
       "      <td>от 200 до 250 тыс.</td>\n",
       "      <td>187</td>\n",
       "      <td>2395</td>\n",
       "      <td>7.807933</td>\n",
       "    </tr>\n",
       "    <tr>\n",
       "      <td>от 350 до 400 тыс.</td>\n",
       "      <td>24</td>\n",
       "      <td>329</td>\n",
       "      <td>7.294833</td>\n",
       "    </tr>\n",
       "    <tr>\n",
       "      <td>от 400 до 450 тыс.</td>\n",
       "      <td>13</td>\n",
       "      <td>196</td>\n",
       "      <td>6.632653</td>\n",
       "    </tr>\n",
       "    <tr>\n",
       "      <td>от 250 до 300 тыс.</td>\n",
       "      <td>87</td>\n",
       "      <td>1321</td>\n",
       "      <td>6.585920</td>\n",
       "    </tr>\n",
       "    <tr>\n",
       "      <td>более 500 тыс.</td>\n",
       "      <td>14</td>\n",
       "      <td>222</td>\n",
       "      <td>6.306306</td>\n",
       "    </tr>\n",
       "    <tr>\n",
       "      <td>менее 50 тыс.</td>\n",
       "      <td>23</td>\n",
       "      <td>370</td>\n",
       "      <td>6.216216</td>\n",
       "    </tr>\n",
       "    <tr>\n",
       "      <td>от 450 до 500 тыс.</td>\n",
       "      <td>4</td>\n",
       "      <td>110</td>\n",
       "      <td>3.636364</td>\n",
       "    </tr>\n",
       "  </tbody>\n",
       "</table>\n",
       "</div>"
      ],
      "text/plain": [
       "                    debt  total_clients  debt_percent\n",
       "total_income_group                                   \n",
       "от 150 до 200 тыс.   466           4761      9.787860\n",
       "от 100 до 150 тыс.   518           5934      8.729356\n",
       "от 300 до 350 тыс.    51            621      8.212560\n",
       "от 50 до 100 тыс.    330           4070      8.108108\n",
       "от 200 до 250 тыс.   187           2395      7.807933\n",
       "от 350 до 400 тыс.    24            329      7.294833\n",
       "от 400 до 450 тыс.    13            196      6.632653\n",
       "от 250 до 300 тыс.    87           1321      6.585920\n",
       "более 500 тыс.        14            222      6.306306\n",
       "менее 50 тыс.         23            370      6.216216\n",
       "от 450 до 500 тыс.     4            110      3.636364"
      ]
     },
     "execution_count": 45,
     "metadata": {},
     "output_type": "execute_result"
    }
   ],
   "source": [
    "df_grouped_income"
   ]
  },
  {
   "cell_type": "markdown",
   "metadata": {},
   "source": [
    "### Вывод"
   ]
  },
  {
   "cell_type": "markdown",
   "metadata": {},
   "source": [
    "1. Надежность заемщиков с ростом ежемесячного дохода меняется немонотонно. Однако, заемщики с наибольшим (в масштабах выборки) доходом ожидаемо являются наиболее надежными.  \n",
    "2. Хуже всех платят представители самой широкопредставленной в данных категории (доход от 100 до 200 тыс. рублей): 10695 человек, из которых 9.2% - должники\n",
    "3. Заемщики с наименьшими и наибольшими (в масштабах выборки) доходами отличаются по надежности всего на 0.09% и входят в первую тройку по надежности (6.22% и 6.31% должников соответственно). "
   ]
  },
  {
   "cell_type": "markdown",
   "metadata": {},
   "source": [
    "- Как разные цели кредита влияют на его возврат в срок?  \n",
    "Сводная таблица по цели кредита и факту наличия задолженности\n",
    "  - purpose_type - цель взятия кредита\n",
    "  - debt - количество заемщиков-должников в группе\n",
    "  - total_clients - общее количество заемщиков в группе\n",
    "  - debt_percent - процент клиентов с задолженностями в группе"
   ]
  },
  {
   "cell_type": "code",
   "execution_count": 46,
   "metadata": {},
   "outputs": [
    {
     "data": {
      "text/html": [
       "<div>\n",
       "<style scoped>\n",
       "    .dataframe tbody tr th:only-of-type {\n",
       "        vertical-align: middle;\n",
       "    }\n",
       "\n",
       "    .dataframe tbody tr th {\n",
       "        vertical-align: top;\n",
       "    }\n",
       "\n",
       "    .dataframe thead th {\n",
       "        text-align: right;\n",
       "    }\n",
       "</style>\n",
       "<table border=\"1\" class=\"dataframe\">\n",
       "  <thead>\n",
       "    <tr style=\"text-align: right;\">\n",
       "      <th></th>\n",
       "      <th>debt</th>\n",
       "      <th>total_clients</th>\n",
       "      <th>debt_percent</th>\n",
       "    </tr>\n",
       "    <tr>\n",
       "      <th>purpose_type</th>\n",
       "      <th></th>\n",
       "      <th></th>\n",
       "      <th></th>\n",
       "    </tr>\n",
       "  </thead>\n",
       "  <tbody>\n",
       "    <tr>\n",
       "      <td>получение образования</td>\n",
       "      <td>366</td>\n",
       "      <td>3776</td>\n",
       "      <td>9.692797</td>\n",
       "    </tr>\n",
       "    <tr>\n",
       "      <td>операции с транспортом</td>\n",
       "      <td>395</td>\n",
       "      <td>4076</td>\n",
       "      <td>9.690873</td>\n",
       "    </tr>\n",
       "    <tr>\n",
       "      <td>организация свадьбы</td>\n",
       "      <td>183</td>\n",
       "      <td>2240</td>\n",
       "      <td>8.169643</td>\n",
       "    </tr>\n",
       "    <tr>\n",
       "      <td>операции с недвижимостью</td>\n",
       "      <td>773</td>\n",
       "      <td>10237</td>\n",
       "      <td>7.551040</td>\n",
       "    </tr>\n",
       "  </tbody>\n",
       "</table>\n",
       "</div>"
      ],
      "text/plain": [
       "                          debt  total_clients  debt_percent\n",
       "purpose_type                                               \n",
       "получение образования      366           3776      9.692797\n",
       "операции с транспортом     395           4076      9.690873\n",
       "организация свадьбы        183           2240      8.169643\n",
       "операции с недвижимостью   773          10237      7.551040"
      ]
     },
     "execution_count": 46,
     "metadata": {},
     "output_type": "execute_result"
    }
   ],
   "source": [
    "df_grouped_purpose"
   ]
  },
  {
   "cell_type": "markdown",
   "metadata": {},
   "source": [
    "### Вывод"
   ]
  },
  {
   "cell_type": "markdown",
   "metadata": {},
   "source": [
    "1. Хуже всех с выплатами справляются заемщики, берущие деньги на образование и операции с транспортными средствами (по 9.69% должников)\n",
    "2. Лучше всех - берущие кредиты на операции с недвижимостью"
   ]
  },
  {
   "cell_type": "markdown",
   "metadata": {},
   "source": [
    "### Шаг 4. Общий вывод"
   ]
  },
  {
   "cell_type": "markdown",
   "metadata": {},
   "source": [
    "- В ходе анализа исходного набора данных было проведено __обогащение данных__ (пропуски были устранены в двух колонках с числовыми значениями - 'total_income' и 'days_employed').  \n",
    "- После __утсранения явных и скрытых дупликатов__ и удаления оставшихся после обогащения пропусков объем датасета сократился на 0.05%\n",
    "- Были устранены __выбросы__ в колонках 'days_employed' и 'children': в первом случае выбросы возникли в результате системной ошибки (данные были внесены в часах, а не в днях); во втором случае ошибка, вероятнее всего была допущена людьми, вносившими данные в систему\n",
    "- Во всех колонках, содержащих количественные данные __тип данных__ 'float64' __был изменен__ на 'int64'\n",
    "- Была проведена __лемматизация__ целей в столбце 'purpose', в результате которой были выделены 4 типа целей взятия кредитов (образование, операции с транспортом, операции с недвижимостью, свадьбы)\n",
    "- __Данные были категоризированы__ по разным признакам в соответствии с поставленными вопросами\n",
    "- На все поставленные __вопросы__ были даны __ответы__ (каждый подкреплен соответствующей сводной таблицей)"
   ]
  }
 ],
 "metadata": {
  "kernelspec": {
   "display_name": "Python 3",
   "language": "python",
   "name": "python3"
  },
  "language_info": {
   "codemirror_mode": {
    "name": "ipython",
    "version": 3
   },
   "file_extension": ".py",
   "mimetype": "text/x-python",
   "name": "python",
   "nbconvert_exporter": "python",
   "pygments_lexer": "ipython3",
   "version": "3.8.5"
  },
  "toc": {
   "base_numbering": 1,
   "nav_menu": {
    "height": "581px",
    "width": "527px"
   },
   "number_sections": true,
   "sideBar": true,
   "skip_h1_title": false,
   "title_cell": "Table of Contents",
   "title_sidebar": "Contents",
   "toc_cell": false,
   "toc_position": {},
   "toc_section_display": true,
   "toc_window_display": false
  }
 },
 "nbformat": 4,
 "nbformat_minor": 2
}
